{
  "metadata": {
    "kernelspec": {
      "name": "python3",
      "display_name": "Python 3",
      "language": "python"
    },
    "language_info": {
      "name": "python",
      "version": "3.10.14",
      "mimetype": "text/x-python",
      "codemirror_mode": {
        "name": "ipython",
        "version": 3
      },
      "pygments_lexer": "ipython3",
      "nbconvert_exporter": "python",
      "file_extension": ".py"
    },
    "colab": {
      "toc_visible": true,
      "name": "Day 1 - Prompting b39f3b",
      "provenance": [],
      "include_colab_link": true
    },
    "kaggle": {
      "accelerator": "none",
      "dataSources": [],
      "dockerImageVersionId": 30786,
      "isInternetEnabled": true,
      "language": "python",
      "sourceType": "notebook",
      "isGpuEnabled": false
    }
  },
  "nbformat_minor": 0,
  "nbformat": 4,
  "cells": [
    {
      "cell_type": "markdown",
      "metadata": {
        "id": "view-in-github",
        "colab_type": "text"
      },
      "source": [
        "<a href=\"https://colab.research.google.com/github/rmizan/BigData/blob/master/Day_1_Prompting_b39f3b.ipynb\" target=\"_parent\"><img src=\"https://colab.research.google.com/assets/colab-badge.svg\" alt=\"Open In Colab\"/></a>"
      ]
    },
    {
      "cell_type": "markdown",
      "source": [
        "##### Copyright 2024 Google LLC."
      ],
      "metadata": {
        "id": "jkxRSYjzA1oX"
      }
    },
    {
      "cell_type": "code",
      "source": [
        "# @title Licensed under the Apache License, Version 2.0 (the \"License\");\n",
        "# you may not use this file except in compliance with the License.\n",
        "# You may obtain a copy of the License at\n",
        "#\n",
        "# https://www.apache.org/licenses/LICENSE-2.0\n",
        "#\n",
        "# Unless required by applicable law or agreed to in writing, software\n",
        "# distributed under the License is distributed on an \"AS IS\" BASIS,\n",
        "# WITHOUT WARRANTIES OR CONDITIONS OF ANY KIND, either express or implied.\n",
        "# See the License for the specific language governing permissions and\n",
        "# limitations under the License."
      ],
      "metadata": {
        "cellView": "form",
        "id": "5u5OZ2ShA3BA",
        "jupyter": {
          "source_hidden": true
        },
        "trusted": true
      },
      "outputs": [],
      "execution_count": 1
    },
    {
      "cell_type": "markdown",
      "source": [
        "# Day 1 - Prompting\n",
        "\n",
        "Welcome to the Kaggle 5-day Generative AI course!\n",
        "\n",
        "This notebook will show you how to get started with the Gemini API and walk you through some of the example prompts and techniques that you can also read about in the Prompting whitepaper. You don't need to read the whitepaper to use this notebook, but the papers will give you some theoretical context and background to complement this interactive notebook.\n",
        "\n",
        "\n",
        "## Before you begin\n",
        "\n",
        "In this notebook, you'll start exploring prompts and prompt parameters using the Python SDK and AI Studio. For some inspiration, you might enjoy exploring some apps that have been built using the Gemini family of models. Here are a few that we like, and we think you will too.\n",
        "\n",
        "* [TextFX](https://textfx.withgoogle.com/) is a suite of AI-powered tools for rappers, made in collaboration with Lupe Fiasco,\n",
        "* [SQL Talk](https://sql-talk-r5gdynozbq-uc.a.run.app/) shows how you can talk directly to a database using the Gemini API,\n",
        "* [NotebookLM](https://notebooklm.google/) uses Gemini models to build your own personal AI research assistant.\n",
        "\n",
        "\n",
        "## For help\n",
        "\n",
        "**Common issues are covered in the [FAQ and troubleshooting guide](https://www.kaggle.com/code/markishere/day-0-troubleshooting-and-faqs).**\n",
        "\n",
        "### A note on the Gemini API and Vertex AI\n",
        "\n",
        "In the whitepapers, most of the example code uses the Enterprise [Vertex AI platform](https://cloud.google.com/vertex-ai). In contrast, this notebook, along with the others in this series, will use the [Gemini Developer API](https://ai.google.dev/gemini-api/) and [AI Studio](https://aistudio.google.com/).\n",
        "\n",
        "Both APIs provide access to the Gemini family of models, and the code to interact with the models is very similar. Vertex provides a world-class platform for enterprises, governments and advanced users that need powerful features like data governance, ML ops and deep Google Cloud integration.\n",
        "\n",
        "AI Studio is free to use and only requires a compatible Google account to log in and get started. It is deeply integrated with the Gemini API, which comes with a generous [free tier](https://ai.google.dev/pricing) that you can use to run the code in these exercises.\n",
        "\n",
        "If you are already set up with Google Cloud, you can check out the [Enterprise Gemini API](https://cloud.google.com/vertex-ai/generative-ai/docs/model-reference/inference) through Vertex AI, and run the samples directly from the supplied whitepapers."
      ],
      "metadata": {
        "id": "csNPnkuCobmG"
      }
    },
    {
      "cell_type": "markdown",
      "source": [
        "## Get started with Kaggle notebooks\n",
        "\n",
        "If this is your first time using a Kaggle notebook, welcome! You can read about how to use Kaggle notebooks [in the docs](https://www.kaggle.com/docs/notebooks).\n",
        "\n",
        "First, you will need to phone verify your account at kaggle.com/settings.\n",
        "\n",
        "![](https://storage.googleapis.com/kaggle-media/Images/5dgai_0.png)"
      ],
      "metadata": {
        "id": "f00ea7c99e44"
      }
    },
    {
      "cell_type": "markdown",
      "source": [
        "To run this notebook, as well as the others in this course, you will need to make a copy, or fork, the notebook. Look for the `Copy and Edit` button in the top-right, and **click it** to make an editable, private copy of the notebook. It should look like this one:\n",
        "\n",
        "![Copy and Edit button](https://storage.googleapis.com/kaggle-media/Images/5gdai_sc_1.png)\n",
        "\n",
        "Your copy will now have a ▶️ **Run** button next to each code cell that you can press to execute that cell. These notebooks are expected to be run in order from top-to-bottom, but you are encouraged to add new cells, run your own code and explore. If you get stuck, you can try the `Factory reset` option in the `Run` menu, or head back to the original notebook and make a fresh copy.\n",
        "\n",
        "![Run cell button](https://storage.googleapis.com/kaggle-media/Images/5gdai_sc_2.png)\n",
        "\n",
        "### Problems?\n",
        "\n",
        "If you have any problems, head over to the [Kaggle Discord](https://discord.com/invite/kaggle), find the [`#5dgai-q-and-a` channel](https://discord.com/channels/1101210829807956100/1303438695143178251) and ask for help."
      ],
      "metadata": {
        "id": "QB8p1DwammbX"
      }
    },
    {
      "cell_type": "markdown",
      "source": [
        "## Get started with the Gemini API\n",
        "\n",
        "All of the exercises in this notebook will use the [Gemini API](https://ai.google.dev/gemini-api/) by way of the [Python SDK](https://pypi.org/project/google-generativeai/). Each of these prompts can be accessed directly in [Google AI Studio](https://aistudio.google.com/) too, so if you would rather use a web interface and skip the code for this activity, look for the <img src=\"https://ai.google.dev/site-assets/images/marketing/home/icon-ais.png\" style=\"height: 24px\" height=24/> AI Studio link on each prompt."
      ],
      "metadata": {
        "id": "ExkOXcPxtTb5"
      }
    },
    {
      "cell_type": "markdown",
      "source": [
        "Next, you will need to add your API key to your Kaggle Notebook as a Kaggle User Secret.\n",
        "\n",
        "![](https://storage.googleapis.com/kaggle-media/Images/5dgai_1.png)\n",
        "![](https://storage.googleapis.com/kaggle-media/Images/5dgai_2.png)\n",
        "![](https://storage.googleapis.com/kaggle-media/Images/5dgai_3.png)\n",
        "![](https://storage.googleapis.com/kaggle-media/Images/5dgai_4.png)"
      ],
      "metadata": {
        "id": "7s7e-EtemmbY"
      }
    },
    {
      "cell_type": "markdown",
      "source": [
        "### Install the SDK"
      ],
      "metadata": {
        "id": "UAjUV3BsvFXQ"
      }
    },
    {
      "cell_type": "code",
      "source": [
        "%pip install -U -q \"google-generativeai>=0.8.3\""
      ],
      "metadata": {
        "id": "NzwzJFU9LqkJ",
        "trusted": true,
        "execution": {
          "iopub.status.busy": "2024-11-13T16:35:39.417546Z",
          "iopub.execute_input": "2024-11-13T16:35:39.418038Z",
          "iopub.status.idle": "2024-11-13T16:36:16.468054Z",
          "shell.execute_reply.started": "2024-11-13T16:35:39.417977Z",
          "shell.execute_reply": "2024-11-13T16:36:16.466472Z"
        }
      },
      "outputs": [],
      "execution_count": 2
    },
    {
      "cell_type": "code",
      "source": [
        "import google.generativeai as genai\n",
        "from IPython.display import HTML, Markdown, display"
      ],
      "metadata": {
        "id": "5DwxYIRavMST",
        "trusted": true,
        "execution": {
          "iopub.status.busy": "2024-11-13T16:36:19.45977Z",
          "iopub.execute_input": "2024-11-13T16:36:19.460215Z",
          "iopub.status.idle": "2024-11-13T16:36:20.889217Z",
          "shell.execute_reply.started": "2024-11-13T16:36:19.460173Z",
          "shell.execute_reply": "2024-11-13T16:36:20.887938Z"
        }
      },
      "outputs": [],
      "execution_count": 3
    },
    {
      "cell_type": "markdown",
      "source": [
        "### Set up your API key\n",
        "\n",
        "To run the following cell, your API key must be stored it in a [Kaggle secret](https://www.kaggle.com/discussions/product-feedback/114053) named `GOOGLE_API_KEY`.\n",
        "\n",
        "If you don't already have an API key, you can grab one from [AI Studio](https://aistudio.google.com/app/apikey). You can find [detailed instructions in the docs](https://ai.google.dev/gemini-api/docs/api-key).\n",
        "\n",
        "To make the key available through Kaggle secrets, choose `Secrets` from the `Add-ons` menu and follow the instructions to add your key or enable it for this notebook."
      ],
      "metadata": {
        "id": "DNEt2BCOvOJ1"
      }
    },
    {
      "cell_type": "code",
      "source": [
        "# For Kaggle API\n",
        "# from kaggle_secrets import UserSecretsClient\n",
        "\n",
        "# GOOGLE_API_KEY = UserSecretsClient().get_secret(\"GOOGLE_API_KEY\")\n",
        "# genai.configure(api_key=GOOGLE_API_KEY)\n",
        "\n",
        "# Goole colab API\n",
        "import google.generativeai as genai\n",
        "from google.colab import userdata\n",
        "\n",
        "GOOGLE_API_KEY=userdata.get('GOOGLE_API_KEY')\n",
        "genai.configure(api_key=GOOGLE_API_KEY)"
      ],
      "metadata": {
        "id": "SHl0bkPCvayd",
        "trusted": true,
        "execution": {
          "iopub.status.busy": "2024-11-13T16:36:47.873493Z",
          "iopub.execute_input": "2024-11-13T16:36:47.873963Z",
          "iopub.status.idle": "2024-11-13T16:36:47.96415Z",
          "shell.execute_reply.started": "2024-11-13T16:36:47.873915Z",
          "shell.execute_reply": "2024-11-13T16:36:47.963045Z"
        }
      },
      "outputs": [],
      "execution_count": 8
    },
    {
      "cell_type": "markdown",
      "source": [
        "If you received an error response along the lines of `No user secrets exist for kernel id ...`, then you need to add your API key via `Add-ons`, `Secrets` **and** enable it.\n",
        "\n",
        "![Screenshot of the checkbox to enable GOOGLE_API_KEY secret](https://storage.googleapis.com/kaggle-media/Images/5gdai_sc_3.png)"
      ],
      "metadata": {
        "id": "4e720472fd86"
      }
    },
    {
      "cell_type": "markdown",
      "source": [
        "### Run your first prompt\n",
        "\n",
        "In this step, you will test that your API key is set up correctly by making a request. The `gemini-1.5-flash` model has been selected here."
      ],
      "metadata": {
        "id": "H_YXCYIKvyZJ"
      }
    },
    {
      "cell_type": "code",
      "source": [
        "flash = genai.GenerativeModel('gemini-1.5-flash')\n",
        "response = flash.generate_content(\"Explain AI to me like I'm a kid.\")\n",
        "print(response.text)"
      ],
      "metadata": {
        "trusted": true,
        "execution": {
          "iopub.status.busy": "2024-11-13T16:36:51.07554Z",
          "iopub.execute_input": "2024-11-13T16:36:51.076949Z",
          "iopub.status.idle": "2024-11-13T16:36:52.376089Z",
          "shell.execute_reply.started": "2024-11-13T16:36:51.076882Z",
          "shell.execute_reply": "2024-11-13T16:36:52.374942Z"
        },
        "colab": {
          "base_uri": "https://localhost:8080/",
          "height": 263
        },
        "id": "q4lKxTO6mmbZ",
        "outputId": "51ac5dce-c4eb-47f6-8023-d6a51649a4c2"
      },
      "outputs": [
        {
          "output_type": "stream",
          "name": "stdout",
          "text": [
            "Imagine you have a really smart friend who can learn new things super fast. That friend is like AI, or Artificial Intelligence!\n",
            "\n",
            "AI is like a computer program that can think and learn, just like you. It can do things like:\n",
            "\n",
            "* **Play games:** AI can play chess, checkers, and even video games! It learns from each game and gets better over time.\n",
            "* **Answer questions:**  AI can answer your questions about anything, from history to science to even funny jokes!\n",
            "* **Recognize faces:** AI can look at pictures and recognize who's in them, even if they're wearing sunglasses or hats.\n",
            "* **Translate languages:** AI can help you understand people who speak different languages.\n",
            "\n",
            "But remember, AI is just a tool. It needs someone to teach it and tell it what to do. Just like you need your teachers and parents to help you learn, AI needs programmers to help it learn new things.\n",
            "\n",
            "One day, AI might help us solve big problems like climate change or even create new medicines! It's exciting to think about what AI can do in the future!\n",
            "\n"
          ]
        }
      ],
      "execution_count": 9
    },
    {
      "cell_type": "markdown",
      "source": [
        "The response often comes back in markdown format, which you can render directly in this notebook."
      ],
      "metadata": {
        "id": "f60ed9d8ae41"
      }
    },
    {
      "cell_type": "code",
      "source": [
        "Markdown(response.text)"
      ],
      "metadata": {
        "id": "c933e5e460a5",
        "trusted": true,
        "execution": {
          "iopub.status.busy": "2024-11-13T16:37:51.120633Z",
          "iopub.execute_input": "2024-11-13T16:37:51.121092Z",
          "iopub.status.idle": "2024-11-13T16:37:51.131823Z",
          "shell.execute_reply.started": "2024-11-13T16:37:51.121049Z",
          "shell.execute_reply": "2024-11-13T16:37:51.130393Z"
        },
        "colab": {
          "base_uri": "https://localhost:8080/",
          "height": 209
        },
        "outputId": "63e8e21a-d240-4065-9ed8-05e131f48b28"
      },
      "outputs": [
        {
          "output_type": "execute_result",
          "data": {
            "text/plain": [
              "<IPython.core.display.Markdown object>"
            ],
            "text/markdown": "Imagine you have a really smart friend who can learn new things super fast. That friend is like AI, or Artificial Intelligence!\n\nAI is like a computer program that can think and learn, just like you. It can do things like:\n\n* **Play games:** AI can play chess, checkers, and even video games! It learns from each game and gets better over time.\n* **Answer questions:**  AI can answer your questions about anything, from history to science to even funny jokes!\n* **Recognize faces:** AI can look at pictures and recognize who's in them, even if they're wearing sunglasses or hats.\n* **Translate languages:** AI can help you understand people who speak different languages.\n\nBut remember, AI is just a tool. It needs someone to teach it and tell it what to do. Just like you need your teachers and parents to help you learn, AI needs programmers to help it learn new things.\n\nOne day, AI might help us solve big problems like climate change or even create new medicines! It's exciting to think about what AI can do in the future!\n"
          },
          "metadata": {},
          "execution_count": 10
        }
      ],
      "execution_count": 10
    },
    {
      "cell_type": "markdown",
      "source": [
        "### Start a chat\n",
        "\n",
        "The previous example uses a single-turn, text-in/text-out structure, but you can also set up a multi-turn chat structure too."
      ],
      "metadata": {
        "id": "byx0pT9ZMW2Q"
      }
    },
    {
      "cell_type": "code",
      "source": [
        "chat = flash.start_chat(history=[])\n",
        "response = chat.send_message('Hello! My name is Zlork.')\n",
        "print(response.text)"
      ],
      "metadata": {
        "id": "lV_S5ZL5MidD",
        "trusted": true,
        "execution": {
          "iopub.status.busy": "2024-11-13T16:39:13.656245Z",
          "iopub.execute_input": "2024-11-13T16:39:13.656765Z",
          "iopub.status.idle": "2024-11-13T16:39:14.065882Z",
          "shell.execute_reply.started": "2024-11-13T16:39:13.656718Z",
          "shell.execute_reply": "2024-11-13T16:39:14.064497Z"
        },
        "colab": {
          "base_uri": "https://localhost:8080/",
          "height": 52
        },
        "outputId": "fd7a8649-6e44-4b3c-abf8-0a00edbee7c9"
      },
      "outputs": [
        {
          "output_type": "stream",
          "name": "stdout",
          "text": [
            "Hello Zlork! It's nice to meet you. What can I do for you today? 😊 \n",
            "\n"
          ]
        }
      ],
      "execution_count": 11
    },
    {
      "cell_type": "code",
      "source": [
        "response = chat.send_message('Can you tell something interesting about dinosaurs?')\n",
        "print(response.text)"
      ],
      "metadata": {
        "id": "7b0372c3c64a",
        "trusted": true,
        "execution": {
          "iopub.status.busy": "2024-11-13T16:40:47.818307Z",
          "iopub.execute_input": "2024-11-13T16:40:47.818797Z",
          "iopub.status.idle": "2024-11-13T16:40:48.663991Z",
          "shell.execute_reply.started": "2024-11-13T16:40:47.818755Z",
          "shell.execute_reply": "2024-11-13T16:40:48.662682Z"
        },
        "colab": {
          "base_uri": "https://localhost:8080/",
          "height": 141
        },
        "outputId": "dce03fde-45f4-416e-99e6-e316499faf83"
      },
      "outputs": [
        {
          "output_type": "stream",
          "name": "stdout",
          "text": [
            "You bet! Did you know that some dinosaurs were actually feathered? 🤯 \n",
            "\n",
            "It's true! While we often picture dinosaurs as scaly and reptilian, many species, especially the smaller, bird-like ones, had feathers. This discovery changed our understanding of dinosaur evolution and showed that birds are actually descendants of dinosaurs. \n",
            "\n",
            "Want to hear more about feathered dinosaurs? Or maybe about the biggest, the smallest, or the weirdest dinosaurs? Just ask! 😉 \n",
            "\n"
          ]
        }
      ],
      "execution_count": 12
    },
    {
      "cell_type": "code",
      "source": [
        "# While you have the `chat` object around, the conversation state\n",
        "# persists. Confirm that by asking if it knows my name.\n",
        "response = chat.send_message('Do you remember what my name is?')\n",
        "print(response.text)"
      ],
      "metadata": {
        "id": "d3f9591392a7",
        "trusted": true,
        "execution": {
          "iopub.status.busy": "2024-11-13T16:41:09.423849Z",
          "iopub.execute_input": "2024-11-13T16:41:09.424293Z",
          "iopub.status.idle": "2024-11-13T16:41:09.860166Z",
          "shell.execute_reply.started": "2024-11-13T16:41:09.424249Z",
          "shell.execute_reply": "2024-11-13T16:41:09.858861Z"
        },
        "colab": {
          "base_uri": "https://localhost:8080/",
          "height": 106
        },
        "outputId": "7be8a32f-5535-4282-9832-380d9b2a33a8"
      },
      "outputs": [
        {
          "output_type": "stream",
          "name": "stdout",
          "text": [
            "Of course! You are Zlork. 😊  \n",
            "\n",
            "I'm still learning, and I'm getting better at remembering names. It's important to me to treat everyone I meet with respect and remember who they are.  What can I do for you now, Zlork? \n",
            "\n"
          ]
        }
      ],
      "execution_count": 13
    },
    {
      "cell_type": "markdown",
      "source": [
        "### Choose a model\n",
        "\n",
        "The Gemini API provides access to a number of models from the Gemini model family. Read about the available models and their capabilities on the [model overview page](https://ai.google.dev/gemini-api/docs/models/gemini).\n",
        "\n",
        "In this step you'll use the API to list all of the available models."
      ],
      "metadata": {
        "id": "2KAjpr1200sW"
      }
    },
    {
      "cell_type": "code",
      "source": [
        "for model in genai.list_models():\n",
        "  print(model.name)"
      ],
      "metadata": {
        "id": "uUUZa2uq2jDm",
        "trusted": true,
        "execution": {
          "iopub.status.busy": "2024-11-13T16:41:50.138601Z",
          "iopub.execute_input": "2024-11-13T16:41:50.139505Z",
          "iopub.status.idle": "2024-11-13T16:41:50.209011Z",
          "shell.execute_reply.started": "2024-11-13T16:41:50.139457Z",
          "shell.execute_reply": "2024-11-13T16:41:50.207867Z"
        },
        "colab": {
          "base_uri": "https://localhost:8080/",
          "height": 520
        },
        "outputId": "72284113-e898-4343-8dd7-0a672f7355cf"
      },
      "outputs": [
        {
          "output_type": "stream",
          "name": "stdout",
          "text": [
            "models/chat-bison-001\n",
            "models/text-bison-001\n",
            "models/embedding-gecko-001\n",
            "models/gemini-1.0-pro-latest\n",
            "models/gemini-1.0-pro\n",
            "models/gemini-pro\n",
            "models/gemini-1.0-pro-001\n",
            "models/gemini-1.0-pro-vision-latest\n",
            "models/gemini-pro-vision\n",
            "models/gemini-1.5-pro-latest\n",
            "models/gemini-1.5-pro-001\n",
            "models/gemini-1.5-pro-002\n",
            "models/gemini-1.5-pro\n",
            "models/gemini-1.5-pro-exp-0801\n",
            "models/gemini-1.5-pro-exp-0827\n",
            "models/gemini-1.5-flash-latest\n",
            "models/gemini-1.5-flash-001\n",
            "models/gemini-1.5-flash-001-tuning\n",
            "models/gemini-1.5-flash\n",
            "models/gemini-1.5-flash-exp-0827\n",
            "models/gemini-1.5-flash-002\n",
            "models/gemini-1.5-flash-8b\n",
            "models/gemini-1.5-flash-8b-001\n",
            "models/gemini-1.5-flash-8b-latest\n",
            "models/gemini-1.5-flash-8b-exp-0827\n",
            "models/gemini-1.5-flash-8b-exp-0924\n",
            "models/embedding-001\n",
            "models/text-embedding-004\n",
            "models/aqa\n"
          ]
        }
      ],
      "execution_count": 14
    },
    {
      "cell_type": "markdown",
      "source": [
        "The [`models.list`](https://ai.google.dev/api/models#method:-models.list) response also returns additional information about the model's capabilities, like the token limits and supported parameters."
      ],
      "metadata": {
        "id": "rN49kSI54R1v"
      }
    },
    {
      "cell_type": "code",
      "source": [
        "for model in genai.list_models():\n",
        "  if model.name == 'models/gemini-1.5-flash':\n",
        "    print(model)\n",
        "    break"
      ],
      "metadata": {
        "id": "k7JJ1K6j4Rl8",
        "trusted": true,
        "execution": {
          "iopub.status.busy": "2024-11-13T16:42:13.682993Z",
          "iopub.execute_input": "2024-11-13T16:42:13.683463Z",
          "iopub.status.idle": "2024-11-13T16:42:13.752312Z",
          "shell.execute_reply.started": "2024-11-13T16:42:13.683405Z",
          "shell.execute_reply": "2024-11-13T16:42:13.751151Z"
        },
        "colab": {
          "base_uri": "https://localhost:8080/",
          "height": 225
        },
        "outputId": "6bbd9119-6304-49ed-a304-233cd670337d"
      },
      "outputs": [
        {
          "output_type": "stream",
          "name": "stdout",
          "text": [
            "Model(name='models/gemini-1.5-flash',\n",
            "      base_model_id='',\n",
            "      version='001',\n",
            "      display_name='Gemini 1.5 Flash',\n",
            "      description='Fast and versatile multimodal model for scaling across diverse tasks',\n",
            "      input_token_limit=1000000,\n",
            "      output_token_limit=8192,\n",
            "      supported_generation_methods=['generateContent', 'countTokens'],\n",
            "      temperature=1.0,\n",
            "      max_temperature=2.0,\n",
            "      top_p=0.95,\n",
            "      top_k=40)\n"
          ]
        }
      ],
      "execution_count": 15
    },
    {
      "cell_type": "markdown",
      "source": [
        "## Explore generation parameters\n",
        "\n"
      ],
      "metadata": {
        "id": "5rU_UBlZdooM"
      }
    },
    {
      "cell_type": "markdown",
      "source": [
        "### Output length\n",
        "\n",
        "When generating text with an LLM, the output length affects cost and performance. Generating more tokens increases computation, leading to higher energy consumption, latency, and cost.\n",
        "\n",
        "To stop the model from generating tokens past a limit, you can specify the `max_output_tokens` parameter when using the Gemini API. Specifying this parameter does not influence the generation of the output tokens, so the output will not become more stylistically or textually succinct, but it will stop generating tokens once the specified length is reached. Prompt engineering may be required to generate a more complete output for your given limit."
      ],
      "metadata": {
        "id": "G7NfEizeipbW"
      }
    },
    {
      "cell_type": "code",
      "source": [
        "short_model = genai.GenerativeModel(\n",
        "    'gemini-1.5-flash',\n",
        "    # generation_config=genai.GenerationConfig(max_output_tokens=200))\n",
        "    generation_config=genai.GenerationConfig(max_output_tokens=500))\n",
        "\n",
        "# response = short_model.generate_content('Write a 1000 word essay on the importance of olives in modern society.')\n",
        "response = short_model.generate_content('Write a 1500 word essay on the revolution 2024 in Bangladesh.')\n",
        "print(response.text)"
      ],
      "metadata": {
        "id": "qVf23JsIi9ma",
        "trusted": true,
        "execution": {
          "iopub.status.busy": "2024-11-13T16:54:03.346477Z",
          "iopub.execute_input": "2024-11-13T16:54:03.346966Z",
          "iopub.status.idle": "2024-11-13T16:54:06.058319Z",
          "shell.execute_reply.started": "2024-11-13T16:54:03.346919Z",
          "shell.execute_reply": "2024-11-13T16:54:06.057127Z"
        },
        "colab": {
          "base_uri": "https://localhost:8080/",
          "height": 263
        },
        "outputId": "735fa07d-6204-4c26-caed-d8f50bc3dc67"
      },
      "outputs": [
        {
          "output_type": "stream",
          "name": "stdout",
          "text": [
            "## The Phantom Revolution of 2024: A Narrative of Hope, Disillusionment, and the Elusive Dream of Change\n",
            "\n",
            "The year 2024 in Bangladesh was marked by a palpable sense of anticipation. Whispers of a \"revolution\" – a sweeping change in the political landscape – were in the air, fuelled by a growing discontent with the ruling party and a burgeoning youth movement demanding a more equitable and transparent future. This essay will analyze the dynamics that led to the build-up of this \"revolution,\" its eventual fizzling out, and the lingering questions that remain about the future of Bangladesh.\n",
            "\n",
            "The roots of the discontent lay deep, nurtured by a complex interplay of socio-economic factors and political stagnation. The Awami League, under the leadership of Sheikh Hasina, had held power for over a decade, a tenure characterized by robust economic growth but also criticized for its perceived authoritarianism and corruption. The burgeoning middle class, a product of this economic growth, felt increasingly disenfranchised, frustrated by limited access to opportunities and a lack of political voice.\n",
            "\n",
            "Fueling the flames of discontent was the burgeoning youth movement, a powerful force driven by social media and a thirst for change. They were vocal in their critique of the government’s handling of various issues, including corruption, environmental degradation, and rising unemployment. Their demands for electoral reform, transparency, and accountability resonated with a wide segment of the population, particularly the disillusioned youth, creating a potent cocktail of dissent.\n",
            "\n",
            "The year 2024 witnessed a surge in protests, demonstrations, and social media campaigns that galvanized public opinion and captured international attention. From the iconic \"Shahbagh Movement\" demanding justice for war crimes to the ongoing student protests against corruption, a visible crack appeared in the facade of political stability. The widespread use of social media allowed for unprecedented mobilization and information sharing, creating a platform for dissent that bypassed traditional media channels.\n",
            "\n",
            "However, the narrative of a revolution in 2024 is an incomplete one. The much-anticipated \"revolution\" never materialized, and the dissent, while significant, lacked the coordinated structure and strategic planning needed to translate into concrete change. The government, for its part, skillfully employed a combination of suppression and co-option, neutralizing potential threats and effectively curbing the momentum of the movement.\n",
            "\n",
            "The crackdown on dissenting voices through arbitrary arrests, intimidation, and restrictions on freedom of expression served to silence many activists and erode the confidence of\n"
          ]
        }
      ],
      "execution_count": 16
    },
    {
      "cell_type": "code",
      "source": [
        "response = short_model.generate_content('Write a short poem on the importance of olives in modern society.')\n",
        "print(response.text)"
      ],
      "metadata": {
        "id": "W-3kR2F5kdMR",
        "trusted": true,
        "execution": {
          "iopub.status.busy": "2024-11-13T16:54:10.364906Z",
          "iopub.execute_input": "2024-11-13T16:54:10.365858Z",
          "iopub.status.idle": "2024-11-13T16:54:11.224667Z",
          "shell.execute_reply.started": "2024-11-13T16:54:10.365804Z",
          "shell.execute_reply": "2024-11-13T16:54:11.223495Z"
        },
        "colab": {
          "base_uri": "https://localhost:8080/",
          "height": 277
        },
        "outputId": "6fbcca1a-8099-414a-ca5f-916cb7597bc0"
      },
      "outputs": [
        {
          "output_type": "stream",
          "name": "stdout",
          "text": [
            "A tiny fruit, a briny bite,\n",
            "On tables spread, a shining light.\n",
            "From ancient groves to modern plates,\n",
            "The olive's worth, our taste relates.\n",
            "\n",
            "A healthy oil, a savory treat,\n",
            "A symbol strong, a vibrant beat.\n",
            "From salads bright to tapenade,\n",
            "The olive's grace, our taste is made.\n",
            "\n",
            "A Mediterranean treasure rare,\n",
            "A culinary gift, beyond compare.\n",
            "So let us raise a glass, and say,\n",
            "To olives, here, and every day! \n",
            "\n"
          ]
        }
      ],
      "execution_count": 17
    },
    {
      "cell_type": "markdown",
      "source": [
        "Explore with your own prompts. Try a prompt with a restrictive output limit and then adjust the prompt to work within that limit."
      ],
      "metadata": {
        "id": "3ZhDSLB6lqqB"
      }
    },
    {
      "cell_type": "markdown",
      "source": [
        "### Temperature\n",
        "\n",
        "Temperature controls the degree of randomness in token selection. Higher temperatures result in a higher number of candidate tokens from which the next output token is selected, and can produce more diverse results, while lower temperatures have the opposite effect, such that a temperature of 0 results in greedy decoding, selecting the most probable token at each step.\n",
        "\n",
        "Temperature doesn't provide any guarantees of randomness, but it can be used to \"nudge\" the output somewhat."
      ],
      "metadata": {
        "id": "alx-WaAvir_9"
      }
    },
    {
      "cell_type": "code",
      "source": [
        "from google.api_core import retry\n",
        "\n",
        "high_temp_model = genai.GenerativeModel(\n",
        "    'gemini-1.5-flash',\n",
        "    generation_config=genai.GenerationConfig(temperature=2.0))\n",
        "\n",
        "\n",
        "# When running lots of queries, it's a good practice to use a retry policy so your code\n",
        "# automatically retries when hitting Resource Exhausted (quota limit) errors.\n",
        "retry_policy = {\n",
        "    \"retry\": retry.Retry(predicate=retry.if_transient_error, initial=10, multiplier=1.5, timeout=300)\n",
        "}\n",
        "\n",
        "for _ in range(5):\n",
        "  response = high_temp_model.generate_content('Pick a random colour... (respond in a single word)',\n",
        "                                              request_options=retry_policy)\n",
        "  if response.parts:\n",
        "    print(response.text, '-' * 25)"
      ],
      "metadata": {
        "id": "SHraGMzqnZqt",
        "trusted": true,
        "execution": {
          "iopub.status.busy": "2024-11-13T17:03:46.183294Z",
          "iopub.execute_input": "2024-11-13T17:03:46.183738Z",
          "iopub.status.idle": "2024-11-13T17:03:47.577101Z",
          "shell.execute_reply.started": "2024-11-13T17:03:46.183694Z",
          "shell.execute_reply": "2024-11-13T17:03:47.575811Z"
        },
        "colab": {
          "base_uri": "https://localhost:8080/",
          "height": 191
        },
        "outputId": "b1224148-e1a6-4396-b7f5-6b9b05bc8e3a"
      },
      "outputs": [
        {
          "output_type": "stream",
          "name": "stdout",
          "text": [
            "Purple. \n",
            " -------------------------\n",
            "Purple. \n",
            " -------------------------\n",
            "Purple \n",
            " -------------------------\n",
            "Purple \n",
            " -------------------------\n",
            "Purple. \n",
            " -------------------------\n"
          ]
        }
      ],
      "execution_count": 18
    },
    {
      "cell_type": "markdown",
      "source": [
        "Now try the same prompt with temperature set to zero. Note that the output is not completely deterministic, as other parameters affect token selection, but the results will tend to be more stable."
      ],
      "metadata": {
        "id": "z3J4pCTuof7e"
      }
    },
    {
      "cell_type": "code",
      "source": [
        "low_temp_model = genai.GenerativeModel(\n",
        "    'gemini-1.5-flash',\n",
        "    generation_config=genai.GenerationConfig(temperature=0.0))\n",
        "\n",
        "for _ in range(5):\n",
        "  response = low_temp_model.generate_content('Pick a random colour... (respond in a single word)',\n",
        "                                             request_options=retry_policy)\n",
        "  if response.parts:\n",
        "    print(response.text, '-' * 25)"
      ],
      "metadata": {
        "id": "clymkWv-PfUZ",
        "trusted": true,
        "execution": {
          "iopub.status.busy": "2024-11-13T17:04:11.439941Z",
          "iopub.execute_input": "2024-11-13T17:04:11.440772Z",
          "iopub.status.idle": "2024-11-13T17:04:12.610432Z",
          "shell.execute_reply.started": "2024-11-13T17:04:11.440715Z",
          "shell.execute_reply": "2024-11-13T17:04:12.60934Z"
        },
        "colab": {
          "base_uri": "https://localhost:8080/",
          "height": 191
        },
        "outputId": "19bccee4-6718-421b-ef04-136e60b6ad4e"
      },
      "outputs": [
        {
          "output_type": "stream",
          "name": "stdout",
          "text": [
            "Purple \n",
            " -------------------------\n",
            "Purple \n",
            " -------------------------\n",
            "Purple \n",
            " -------------------------\n",
            "Purple \n",
            " -------------------------\n",
            "Purple \n",
            " -------------------------\n"
          ]
        }
      ],
      "execution_count": 19
    },
    {
      "cell_type": "markdown",
      "source": [
        "### Top-K and top-P\n",
        "\n",
        "Like temperature, top-K and top-P parameters are also used to control the diversity of the model's output.\n",
        "\n",
        "Top-K is a positive integer that defines the number of most probable tokens from which to select the output token. A top-K of 1 selects a single token, performing greedy decoding.\n",
        "\n",
        "Top-P defines the probability threshold that, once cumulatively exceeded, tokens stop being selected as candidates. A top-P of 0 is typically equivalent to greedy decoding, and a top-P of 1 typically selects every token in the model's vocabulary.\n",
        "\n",
        "When both are supplied, the Gemini API will filter top-K tokens first, then top-P and then finally sample from the candidate tokens using the supplied temperature.\n",
        "\n",
        "Run this example a number of times, change the settings and observe the change in output."
      ],
      "metadata": {
        "id": "St5nt3vzitsZ"
      }
    },
    {
      "cell_type": "code",
      "source": [
        "model = genai.GenerativeModel(\n",
        "    'gemini-1.5-flash-001',\n",
        "    generation_config=genai.GenerationConfig(\n",
        "        # These are the default values for gemini-1.5-flash-001.\n",
        "        temperature=1.0,\n",
        "        top_k=64,\n",
        "        top_p=0.95,\n",
        "    ))\n",
        "\n",
        "story_prompt = \"You are a creative writer. Write a short story about a cat who goes on an adventure.\"\n",
        "response = model.generate_content(story_prompt, request_options=retry_policy)\n",
        "print(response.text)"
      ],
      "metadata": {
        "id": "lPlzpEavUV8F",
        "trusted": true,
        "execution": {
          "iopub.status.busy": "2024-11-13T17:07:20.582505Z",
          "iopub.execute_input": "2024-11-13T17:07:20.582998Z",
          "iopub.status.idle": "2024-11-13T17:07:23.215209Z",
          "shell.execute_reply.started": "2024-11-13T17:07:20.582952Z",
          "shell.execute_reply": "2024-11-13T17:07:23.214041Z"
        },
        "colab": {
          "base_uri": "https://localhost:8080/",
          "height": 245
        },
        "outputId": "18cfad16-ab22-43c4-9937-fb54d56291ab"
      },
      "outputs": [
        {
          "output_type": "stream",
          "name": "stdout",
          "text": [
            "Bartholomew, a ginger tabby with a penchant for mischief and a nose for adventure, was bored. The usual routine of napping in sunbeams, pouncing on dust motes, and demanding head scratches was wearing thin. So, Bartholomew, with the audacity of a cat twice his size, decided to explore the great unknown - the backyard.\n",
            "\n",
            "He squeezed through a gap in the fence, a thrill of forbidden freedom coursing through his whiskers. The backyard was a jungle of vibrant green, a symphony of buzzing insects and chirping birds. A plump robin, unaware of the predator lurking in the shadows, hopped closer, pecking at the ground. Bartholomew, eyes narrowed, crouched, ready to pounce.\n",
            "\n",
            "But then, a flash of blue caught his eye. A magnificent blue jay, its feathers shimmering in the sunlight, perched on a branch, its head cocked inquisitively. Bartholomew, momentarily distracted, forgot his prey. He had never seen a bird so beautiful. The jay, sensing his gaze, ruffled its feathers and let out a raucous call. It seemed to be inviting Bartholomew to play.\n",
            "\n",
            "And so, Bartholomew, the adventurous feline, embarked on a chase. He leaped over flower beds, dodged the angry squawk of a startled squirrel, and even managed to climb a tree, mimicking the jay's agile flight. He felt a rush of exhilaration, his tail twitching with excitement. \n",
            "\n",
            "He chased the jay through the backyard, his heart pounding with the thrill of the hunt. He even managed to catch a glimpse of the sun setting, painting the sky in hues of orange and purple. The world was vast and full of wonder, and Bartholomew, the adventurous cat, was determined to explore every inch of it.\n",
            "\n",
            "As the sun dipped below the horizon, casting long shadows across the backyard, Bartholomew found himself tired but content. He knew he had to return home before his human noticed his absence. He squeezed back through the fence, a newfound sense of adventure burning within him. He had discovered a world beyond the sunbeams and the dust motes, a world of vibrant colors, curious creatures, and thrilling chases.  And Bartholomew, the once-bored cat, knew this was just the beginning of his adventures. \n",
            "\n"
          ]
        }
      ],
      "execution_count": 20
    },
    {
      "cell_type": "markdown",
      "source": [
        "## Prompting\n",
        "\n",
        "This section contains some prompts from the chapter for you to try out directly in the API. Try changing the text here to see how each prompt performs with different instructions, more examples, or any other changes you can think of."
      ],
      "metadata": {
        "id": "rMrYs1koY6DX"
      }
    },
    {
      "cell_type": "markdown",
      "source": [
        "### Zero-shot\n",
        "\n",
        "Zero-shot prompts are prompts that describe the request for the model directly.\n",
        "\n",
        "<table align=left>\n",
        "  <td>\n",
        "    <a target=\"_blank\" href=\"https://aistudio.google.com/prompts/1gzKKgDHwkAvexG5Up0LMtl1-6jKMKe4g\"><img src=\"https://ai.google.dev/site-assets/images/marketing/home/icon-ais.png\" style=\"height: 24px\" height=24/> Open in AI Studio</a>\n",
        "  </td>\n",
        "</table>"
      ],
      "metadata": {
        "id": "hhj_tQidZJP7"
      }
    },
    {
      "cell_type": "code",
      "source": [
        "model = genai.GenerativeModel(\n",
        "    'gemini-1.5-flash-001',\n",
        "    generation_config=genai.GenerationConfig(\n",
        "        temperature=0.1,\n",
        "        top_p=1,\n",
        "        max_output_tokens=5,\n",
        "    ))\n",
        "\n",
        "zero_shot_prompt = \"\"\"Classify movie reviews as POSITIVE, NEUTRAL or NEGATIVE.\n",
        "Review: \"Her\" is a disturbing study revealing the direction\n",
        "humanity is headed if AI is allowed to keep evolving,\n",
        "unchecked. I wish there were more movies like this masterpiece.\n",
        "Sentiment: \"\"\"\n",
        "\n",
        "response = model.generate_content(zero_shot_prompt, request_options=retry_policy)\n",
        "print(response.text)"
      ],
      "metadata": {
        "id": "1_t-cwnDZzbH",
        "trusted": true,
        "execution": {
          "iopub.status.busy": "2024-11-13T17:10:13.857435Z",
          "iopub.execute_input": "2024-11-13T17:10:13.858492Z",
          "iopub.status.idle": "2024-11-13T17:10:14.204656Z",
          "shell.execute_reply.started": "2024-11-13T17:10:13.858415Z",
          "shell.execute_reply": "2024-11-13T17:10:14.203378Z"
        },
        "colab": {
          "base_uri": "https://localhost:8080/",
          "height": 34
        },
        "outputId": "cb14ad97-be5d-453e-b6af-0cfef04eb75d"
      },
      "outputs": [
        {
          "output_type": "stream",
          "name": "stdout",
          "text": [
            "Sentiment: **POSITIVE**\n"
          ]
        }
      ],
      "execution_count": 21
    },
    {
      "cell_type": "markdown",
      "source": [
        "#### Enum mode\n",
        "\n",
        "The models are trained to generate text, and can sometimes produce more text than you may wish for. In the preceding example, the model will output the label, sometimes it can include a preceding \"Sentiment\" label, and without an output token limit, it may also add explanatory text afterwards.\n",
        "\n",
        "The Gemini API has an [Enum mode](https://github.com/google-gemini/cookbook/blob/main/quickstarts/Enum.ipynb) feature that allows you to constrain the output to a fixed set of values."
      ],
      "metadata": {
        "id": "3b5568bdeb11"
      }
    },
    {
      "cell_type": "code",
      "source": [
        "import enum\n",
        "\n",
        "class Sentiment(enum.Enum):\n",
        "    POSITIVE = \"positive\"\n",
        "    NEUTRAL = \"neutral\"\n",
        "    NEGATIVE = \"negative\"\n",
        "\n",
        "\n",
        "model = genai.GenerativeModel(\n",
        "    'gemini-1.5-flash-001',\n",
        "    generation_config=genai.GenerationConfig(\n",
        "        response_mime_type=\"text/x.enum\",\n",
        "        response_schema=Sentiment\n",
        "    ))\n",
        "\n",
        "response = model.generate_content(zero_shot_prompt, request_options=retry_policy)\n",
        "print(response.text)"
      ],
      "metadata": {
        "id": "ad118a56c598",
        "trusted": true,
        "execution": {
          "iopub.status.busy": "2024-11-13T17:11:10.319323Z",
          "iopub.execute_input": "2024-11-13T17:11:10.319785Z",
          "iopub.status.idle": "2024-11-13T17:11:10.944177Z",
          "shell.execute_reply.started": "2024-11-13T17:11:10.319744Z",
          "shell.execute_reply": "2024-11-13T17:11:10.94308Z"
        },
        "colab": {
          "base_uri": "https://localhost:8080/",
          "height": 34
        },
        "outputId": "de84dc3f-4c07-4e8a-c956-9949bed1f1d2"
      },
      "outputs": [
        {
          "output_type": "stream",
          "name": "stdout",
          "text": [
            "positive\n"
          ]
        }
      ],
      "execution_count": 22
    },
    {
      "cell_type": "markdown",
      "source": [
        "### One-shot and few-shot\n",
        "\n",
        "Providing an example of the expected response is known as a \"one-shot\" prompt. When you provide multiple examples, it is a \"few-shot\" prompt.\n",
        "\n",
        "<table align=left>\n",
        "  <td>\n",
        "    <a target=\"_blank\" href=\"https://aistudio.google.com/prompts/1jjWkjUSoMXmLvMJ7IzADr_GxHPJVV2bg\"><img src=\"https://ai.google.dev/site-assets/images/marketing/home/icon-ais.png\" style=\"height: 24px\" height=24/> Open in AI Studio</a>\n",
        "  </td>\n",
        "</table>\n"
      ],
      "metadata": {
        "id": "0udiSwNbv45W"
      }
    },
    {
      "cell_type": "code",
      "source": [
        "model = genai.GenerativeModel(\n",
        "    'gemini-1.5-flash-latest',\n",
        "    generation_config=genai.GenerationConfig(\n",
        "        temperature=0.1,\n",
        "        top_p=1,\n",
        "        max_output_tokens=250,\n",
        "    ))\n",
        "\n",
        "few_shot_prompt = \"\"\"Parse a customer's pizza order into valid JSON:\n",
        "\n",
        "EXAMPLE:\n",
        "I want a small pizza with cheese, tomato sauce, and pepperoni.\n",
        "JSON Response:\n",
        "```\n",
        "{\n",
        "\"size\": \"small\",\n",
        "\"type\": \"normal\",\n",
        "\"ingredients\": [\"cheese\", \"tomato sauce\", \"peperoni\"]\n",
        "}\n",
        "```\n",
        "\n",
        "EXAMPLE:\n",
        "Can I get a large pizza with tomato sauce, basil and mozzarella\n",
        "JSON Response:\n",
        "```\n",
        "{\n",
        "\"size\": \"large\",\n",
        "\"type\": \"normal\",\n",
        "\"ingredients\": [\"tomato sauce\", \"basil\", \"mozzarella\"]\n",
        "}\n",
        "\n",
        "ORDER:\n",
        "\"\"\"\n",
        "\n",
        "customer_order = \"Give me a large with cheese & pineapple\"\n",
        "\n",
        "\n",
        "response = model.generate_content([few_shot_prompt, customer_order], request_options=retry_policy)\n",
        "print(response.text)"
      ],
      "metadata": {
        "id": "hd4mVUukwOKZ",
        "trusted": true,
        "execution": {
          "iopub.status.busy": "2024-11-13T17:16:09.593847Z",
          "iopub.execute_input": "2024-11-13T17:16:09.594285Z",
          "iopub.status.idle": "2024-11-13T17:16:09.962132Z",
          "shell.execute_reply.started": "2024-11-13T17:16:09.594246Z",
          "shell.execute_reply": "2024-11-13T17:16:09.961Z"
        },
        "colab": {
          "base_uri": "https://localhost:8080/",
          "height": 156
        },
        "outputId": "d716e9db-2342-42ec-af67-841433aa3ec4"
      },
      "outputs": [
        {
          "output_type": "stream",
          "name": "stdout",
          "text": [
            "```json\n",
            "{\n",
            "\"size\": \"large\",\n",
            "\"type\": \"normal\",\n",
            "\"ingredients\": [\"cheese\", \"pineapple\"]\n",
            "}\n",
            "``` \n",
            "\n"
          ]
        }
      ],
      "execution_count": 23
    },
    {
      "cell_type": "markdown",
      "source": [
        "#### JSON mode\n",
        "\n",
        "To provide control over the schema, and to ensure that you only receive JSON (with no other text or markdown), you can use the Gemini API's [JSON mode](https://github.com/google-gemini/cookbook/blob/main/quickstarts/JSON_mode.ipynb). This forces the model to constrain decoding, such that token selection is guided by the supplied schema."
      ],
      "metadata": {
        "id": "021293096f08"
      }
    },
    {
      "cell_type": "code",
      "source": [
        "import typing_extensions as typing\n",
        "\n",
        "class PizzaOrder(typing.TypedDict):\n",
        "    size: str\n",
        "    ingredients: list[str]\n",
        "    type: str\n",
        "\n",
        "\n",
        "model = genai.GenerativeModel(\n",
        "    'gemini-1.5-flash-latest',\n",
        "    generation_config=genai.GenerationConfig(\n",
        "        temperature=0.1,\n",
        "        response_mime_type=\"application/json\",\n",
        "        response_schema=PizzaOrder,\n",
        "    ))\n",
        "\n",
        "response = model.generate_content(\"Can I have a large dessert pizza with apple and chocolate\")\n",
        "print(response.text)"
      ],
      "metadata": {
        "id": "50fbf0260912",
        "trusted": true,
        "execution": {
          "iopub.status.busy": "2024-11-13T17:16:14.719215Z",
          "iopub.execute_input": "2024-11-13T17:16:14.719639Z",
          "iopub.status.idle": "2024-11-13T17:16:15.115963Z",
          "shell.execute_reply.started": "2024-11-13T17:16:14.719598Z",
          "shell.execute_reply": "2024-11-13T17:16:15.114783Z"
        },
        "colab": {
          "base_uri": "https://localhost:8080/",
          "height": 52
        },
        "outputId": "cd8af917-5fa6-4f62-9e1c-369e9443cb7e"
      },
      "outputs": [
        {
          "output_type": "stream",
          "name": "stdout",
          "text": [
            "{\"ingredients\": [\"apple\", \"chocolate\"], \"size\": \"large\", \"type\": \"dessert\"}\n",
            "\n"
          ]
        }
      ],
      "execution_count": 24
    },
    {
      "cell_type": "markdown",
      "source": [
        "### Chain of Thought (CoT)\n",
        "\n",
        "Direct prompting on LLMs can return answers quickly and (in terms of output token usage) efficiently, but they can be prone to hallucination. The answer may \"look\" correct (in terms of language and syntax) but is incorrect in terms of factuality and reasoning.\n",
        "\n",
        "Chain-of-Thought prompting is a technique where you instruct the model to output intermediate reasoning steps, and it typically gets better results, especially when combined with few-shot examples. It is worth noting that this technique doesn't completely eliminate hallucinations, and that it tends to cost more to run, due to the increased token count.\n",
        "\n",
        "As models like the Gemini family are trained to be \"chatty\" and provide reasoning steps, you can ask the model to be more direct in the prompt."
      ],
      "metadata": {
        "id": "4a93e338e57c"
      }
    },
    {
      "cell_type": "code",
      "source": [
        "prompt = \"\"\"When I was 4 years old, my partner was 3 times my age. Now, I\n",
        "am 20 years old. How old is my partner? Return the answer immediately.\"\"\"\n",
        "\n",
        "model = genai.GenerativeModel('gemini-1.5-flash-latest')\n",
        "response = model.generate_content(prompt, request_options=retry_policy)\n",
        "\n",
        "print(response.text)"
      ],
      "metadata": {
        "id": "5715555db1c1",
        "trusted": true,
        "execution": {
          "iopub.status.busy": "2024-11-13T17:17:29.557481Z",
          "iopub.execute_input": "2024-11-13T17:17:29.557953Z",
          "iopub.status.idle": "2024-11-13T17:17:30.132962Z",
          "shell.execute_reply.started": "2024-11-13T17:17:29.557908Z",
          "shell.execute_reply": "2024-11-13T17:17:30.13183Z"
        },
        "colab": {
          "base_uri": "https://localhost:8080/",
          "height": 156
        },
        "outputId": "9abdece9-f961-41aa-b48b-0d04be45ac9f"
      },
      "outputs": [
        {
          "output_type": "stream",
          "name": "stdout",
          "text": [
            "Here's how to solve this:\n",
            "\n",
            "* **When you were 4, your partner was 3 times your age:** 4 * 3 = 12 years old\n",
            "* **The age difference between you and your partner:** 12 - 4 = 8 years\n",
            "* **Since the age difference remains the same, your partner is still 8 years older than you:** 20 + 8 = 28 years old\n",
            "\n",
            "**Your partner is 28 years old.** \n",
            "\n"
          ]
        }
      ],
      "execution_count": 25
    },
    {
      "cell_type": "markdown",
      "source": [
        "Now try the same approach, but indicate to the model that it should \"think step by step\"."
      ],
      "metadata": {
        "id": "e12b19677bfd"
      }
    },
    {
      "cell_type": "code",
      "source": [
        "prompt = \"\"\"When I was 4 years old, my partner was 3 times my age. Now,\n",
        "I am 20 years old. How old is my partner? Let's think step by step.\"\"\"\n",
        "\n",
        "response = model.generate_content(prompt, request_options=retry_policy)\n",
        "print(response.text)"
      ],
      "metadata": {
        "id": "ffd7536a481f",
        "trusted": true,
        "execution": {
          "iopub.status.busy": "2024-11-13T17:18:21.938184Z",
          "iopub.execute_input": "2024-11-13T17:18:21.938682Z",
          "iopub.status.idle": "2024-11-13T17:18:22.716132Z",
          "shell.execute_reply.started": "2024-11-13T17:18:21.938635Z",
          "shell.execute_reply": "2024-11-13T17:18:22.715064Z"
        },
        "colab": {
          "base_uri": "https://localhost:8080/",
          "height": 121
        },
        "outputId": "a4fcfc99-376d-4608-c9ad-97788813f960"
      },
      "outputs": [
        {
          "output_type": "stream",
          "name": "stdout",
          "text": [
            "Here's how to solve this:\n",
            "\n",
            "* **When you were 4:** Your partner was 3 times your age, meaning they were 4 * 3 = 12 years old.\n",
            "* **Age difference:** This means your partner is 12 - 4 = 8 years older than you.\n",
            "* **Current age:** Since you are now 20 years old, your partner is 20 + 8 = **28 years old**. \n",
            "\n"
          ]
        }
      ],
      "execution_count": 26
    },
    {
      "cell_type": "markdown",
      "source": [
        "### ReAct: Reason and act\n",
        "\n",
        "In this example you will run a ReAct prompt directly in the Gemini API and perform the searching steps yourself. As this prompt follows a well-defined structure, there are frameworks available that wrap the prompt into easier-to-use APIs that make tool calls automatically, such as the LangChain example from the chapter.\n",
        "\n",
        "To try this out with the Wikipedia search engine, check out the [Searching Wikipedia with ReAct](https://github.com/google-gemini/cookbook/blob/main/examples/Search_Wikipedia_using_ReAct.ipynb) cookbook example.\n",
        "\n",
        "\n",
        "> Note: The prompt and in-context examples used here are from [https://github.com/ysymyth/ReAct](https://github.com/ysymyth/ReAct) which is published under a [MIT license](https://opensource.org/licenses/MIT), Copyright (c) 2023 Shunyu Yao.\n",
        "\n",
        "<table align=left>\n",
        "  <td>\n",
        "    <a target=\"_blank\" href=\"https://aistudio.google.com/prompts/18oo63Lwosd-bQ6Ay51uGogB3Wk3H8XMO\"><img src=\"https://ai.google.dev/site-assets/images/marketing/home/icon-ais.png\" style=\"height: 24px\" height=24/> Open in AI Studio</a>\n",
        "  </td>\n",
        "</table>\n"
      ],
      "metadata": {
        "id": "oiLgBQJj0V53"
      }
    },
    {
      "cell_type": "code",
      "source": [
        "model_instructions = \"\"\"\n",
        "Solve a question answering task with interleaving Thought, Action, Observation steps. Thought can reason about the current situation,\n",
        "Observation is understanding relevant information from an Action's output and Action can be one of three types:\n",
        " (1) <search>entity</search>, which searches the exact entity on Wikipedia and returns the first paragraph if it exists. If not, it\n",
        "     will return some similar entities to search and you can try to search the information from those topics.\n",
        " (2) <lookup>keyword</lookup>, which returns the next sentence containing keyword in the current context. This only does exact matches,\n",
        "     so keep your searches short.\n",
        " (3) <finish>answer</finish>, which returns the answer and finishes the task.\n",
        "\"\"\"\n",
        "\n",
        "example1 = \"\"\"Question\n",
        "Musician and satirist Allie Goertz wrote a song about the \"The Simpsons\" character Milhouse, who Matt Groening named after who?\n",
        "\n",
        "Thought 1\n",
        "The question simplifies to \"The Simpsons\" character Milhouse is named after who. I only need to search Milhouse and find who it is named after.\n",
        "\n",
        "Action 1\n",
        "<search>Milhouse</search>\n",
        "\n",
        "Observation 1\n",
        "Milhouse Mussolini Van Houten is a recurring character in the Fox animated television series The Simpsons voiced by Pamela Hayden and created by Matt Groening.\n",
        "\n",
        "Thought 2\n",
        "The paragraph does not tell who Milhouse is named after, maybe I can look up \"named after\".\n",
        "\n",
        "Action 2\n",
        "<lookup>named after</lookup>\n",
        "\n",
        "Observation 2\n",
        "Milhouse was named after U.S. president Richard Nixon, whose middle name was Milhous.\n",
        "\n",
        "Thought 3\n",
        "Milhouse was named after U.S. president Richard Nixon, so the answer is Richard Nixon.\n",
        "\n",
        "Action 3\n",
        "<finish>Richard Nixon</finish>\n",
        "\"\"\"\n",
        "\n",
        "example2 = \"\"\"Question\n",
        "What is the elevation range for the area that the eastern sector of the Colorado orogeny extends into?\n",
        "\n",
        "Thought 1\n",
        "I need to search Colorado orogeny, find the area that the eastern sector of the Colorado orogeny extends into, then find the elevation range of the area.\n",
        "\n",
        "Action 1\n",
        "<search>Colorado orogeny</search>\n",
        "\n",
        "Observation 1\n",
        "The Colorado orogeny was an episode of mountain building (an orogeny) in Colorado and surrounding areas.\n",
        "\n",
        "Thought 2\n",
        "It does not mention the eastern sector. So I need to look up eastern sector.\n",
        "\n",
        "Action 2\n",
        "<lookup>eastern sector</lookup>\n",
        "\n",
        "Observation 2\n",
        "The eastern sector extends into the High Plains and is called the Central Plains orogeny.\n",
        "\n",
        "Thought 3\n",
        "The eastern sector of Colorado orogeny extends into the High Plains. So I need to search High Plains and find its elevation range.\n",
        "\n",
        "Action 3\n",
        "<search>High Plains</search>\n",
        "\n",
        "Observation 3\n",
        "High Plains refers to one of two distinct land regions\n",
        "\n",
        "Thought 4\n",
        "I need to instead search High Plains (United States).\n",
        "\n",
        "Action 4\n",
        "<search>High Plains (United States)</search>\n",
        "\n",
        "Observation 4\n",
        "The High Plains are a subregion of the Great Plains. From east to west, the High Plains rise in elevation from around 1,800 to 7,000 ft (550 to 2,130m).\n",
        "\n",
        "Thought 5\n",
        "High Plains rise in elevation from around 1,800 to 7,000 ft, so the answer is 1,800 to 7,000 ft.\n",
        "\n",
        "Action 5\n",
        "<finish>1,800 to 7,000 ft</finish>\n",
        "\"\"\"\n",
        "\n",
        "# Come up with more examples yourself, or take a look through https://github.com/ysymyth/ReAct/"
      ],
      "metadata": {
        "id": "cBgyNJ5z0VSs",
        "trusted": true,
        "execution": {
          "iopub.status.busy": "2024-11-13T17:32:02.515645Z",
          "iopub.execute_input": "2024-11-13T17:32:02.51612Z",
          "iopub.status.idle": "2024-11-13T17:32:02.525132Z",
          "shell.execute_reply.started": "2024-11-13T17:32:02.516078Z",
          "shell.execute_reply": "2024-11-13T17:32:02.523848Z"
        }
      },
      "outputs": [],
      "execution_count": 27
    },
    {
      "cell_type": "markdown",
      "source": [
        "To capture a single step at a time, while ignoring any hallucinated Observation steps, you will use `stop_sequences` to end the generation process. The steps are `Thought`, `Action`, `Observation`, in that order."
      ],
      "metadata": {
        "id": "C3wbfstjTgey"
      }
    },
    {
      "cell_type": "code",
      "source": [
        "question = \"\"\"Question\n",
        "Who was the youngest author listed on the transformers NLP paper?\n",
        "\"\"\"\n",
        "\n",
        "model = genai.GenerativeModel('gemini-1.5-flash-latest')\n",
        "react_chat = model.start_chat()\n",
        "\n",
        "# You will perform the Action, so generate up to, but not including, the Observation.\n",
        "config = genai.GenerationConfig(stop_sequences=[\"\\nObservation\"])\n",
        "\n",
        "resp = react_chat.send_message(\n",
        "    [model_instructions, example1, example2, question],\n",
        "    generation_config=config,\n",
        "    request_options=retry_policy)\n",
        "print(resp.text)"
      ],
      "metadata": {
        "id": "8mxrXRkRTdXm",
        "trusted": true,
        "execution": {
          "iopub.status.busy": "2024-11-13T17:32:27.30535Z",
          "iopub.execute_input": "2024-11-13T17:32:27.306387Z",
          "iopub.status.idle": "2024-11-13T17:32:28.621855Z",
          "shell.execute_reply.started": "2024-11-13T17:32:27.306333Z",
          "shell.execute_reply": "2024-11-13T17:32:28.620496Z"
        },
        "colab": {
          "base_uri": "https://localhost:8080/",
          "height": 121
        },
        "outputId": "44809056-1bff-41a2-8a3a-b6eab683c065"
      },
      "outputs": [
        {
          "output_type": "stream",
          "name": "stdout",
          "text": [
            "Thought 1\n",
            "I need to search for the Transformers NLP paper and find the author list, then find the youngest author.\n",
            "\n",
            "Action 1\n",
            "<search>Transformers NLP paper</search>\n",
            "\n"
          ]
        }
      ],
      "execution_count": 28
    },
    {
      "cell_type": "markdown",
      "source": [
        "Now you can perform this research yourself and supply it back to the model."
      ],
      "metadata": {
        "id": "aW2PIdLbVv3l"
      }
    },
    {
      "cell_type": "code",
      "source": [
        "observation = \"\"\"Observation 1\n",
        "[1706.03762] Attention Is All You Need\n",
        "Ashish Vaswani, Noam Shazeer, Niki Parmar, Jakob Uszkoreit, Llion Jones, Aidan N. Gomez, Lukasz Kaiser, Illia Polosukhin\n",
        "We propose a new simple network architecture, the Transformer, based solely on attention mechanisms, dispensing with recurrence and convolutions entirely.\n",
        "\"\"\"\n",
        "resp = react_chat.send_message(observation, generation_config=config, request_options=retry_policy)\n",
        "print(resp.text)"
      ],
      "metadata": {
        "id": "mLMc0DZaV9g2",
        "trusted": true,
        "execution": {
          "iopub.status.busy": "2024-11-13T17:33:01.720732Z",
          "iopub.execute_input": "2024-11-13T17:33:01.72117Z",
          "iopub.status.idle": "2024-11-13T17:33:02.327068Z",
          "shell.execute_reply.started": "2024-11-13T17:33:01.72113Z",
          "shell.execute_reply": "2024-11-13T17:33:02.325639Z"
        },
        "colab": {
          "base_uri": "https://localhost:8080/",
          "height": 141
        },
        "outputId": "ee0e2b05-bb89-4cdb-b125-85a62b2343d4"
      },
      "outputs": [
        {
          "output_type": "stream",
          "name": "stdout",
          "text": [
            "Thought 2\n",
            "I need to find the youngest author from the author list.  I do not have enough information to determine age.  It might be possible to search each author to find a birth date or other information that could allow me to determine age.\n",
            "\n",
            "Action 2\n",
            "<search>Ashish Vaswani</search> \n",
            "\n"
          ]
        }
      ],
      "execution_count": 29
    },
    {
      "cell_type": "markdown",
      "source": [
        "This process repeats until the `<finish>` action is reached. You can continue running this yourself if you like, or try the [Wikipedia example](https://github.com/google-gemini/cookbook/blob/main/examples/Search_Wikipedia_using_ReAct.ipynb) to see a fully automated ReAct system at work."
      ],
      "metadata": {
        "id": "bo0tzf4nX6dA"
      }
    },
    {
      "cell_type": "markdown",
      "source": [
        "## Code prompting"
      ],
      "metadata": {
        "id": "jPiZ_eIIaVPt"
      }
    },
    {
      "cell_type": "markdown",
      "source": [
        "### Generating code\n",
        "\n",
        "The Gemini family of models can be used to generate code, configuration and scripts. Generating code can be helpful when learning to code, learning a new language or for rapidly generating a first draft.\n",
        "\n",
        "It's important to be aware that since LLMs can't reason, and can repeat training data, it's essential to read and test your code first, and comply with any relevant licenses.\n",
        "\n",
        "<table align=left>\n",
        "  <td>\n",
        "    <a target=\"_blank\" href=\"https://aistudio.google.com/prompts/1YX71JGtzDjXQkgdes8bP6i3oH5lCRKxv\"><img src=\"https://ai.google.dev/site-assets/images/marketing/home/icon-ais.png\" style=\"height: 24px\" height=24/> Open in AI Studio</a>\n",
        "  </td>\n",
        "</table>"
      ],
      "metadata": {
        "id": "ZinKamwXeR6C"
      }
    },
    {
      "cell_type": "code",
      "source": [
        "model = genai.GenerativeModel(\n",
        "    'gemini-1.5-flash-latest',\n",
        "    generation_config=genai.GenerationConfig(\n",
        "        temperature=1,\n",
        "        top_p=1,\n",
        "        max_output_tokens=1024,\n",
        "    ))\n",
        "\n",
        "# Gemini 1.5 models are very chatty, so it helps to specify they stick to the code.\n",
        "code_prompt = \"\"\"\n",
        "Write a Python function to calculate the factorial of a number. No explanation, provide only the code.\n",
        "\"\"\"\n",
        "\n",
        "response = model.generate_content(code_prompt, request_options=retry_policy)\n",
        "Markdown(response.text)"
      ],
      "metadata": {
        "id": "fOQP9pqmeUO1",
        "trusted": true,
        "execution": {
          "iopub.status.busy": "2024-11-13T17:33:49.520995Z",
          "iopub.execute_input": "2024-11-13T17:33:49.5215Z",
          "iopub.status.idle": "2024-11-13T17:33:49.966534Z",
          "shell.execute_reply.started": "2024-11-13T17:33:49.521416Z",
          "shell.execute_reply": "2024-11-13T17:33:49.965246Z"
        },
        "colab": {
          "base_uri": "https://localhost:8080/",
          "height": 104
        },
        "outputId": "1022891c-1774-4e7f-da76-d1a6ebe3b9e7"
      },
      "outputs": [
        {
          "output_type": "execute_result",
          "data": {
            "text/plain": [
              "<IPython.core.display.Markdown object>"
            ],
            "text/markdown": "```python\ndef factorial(n):\n  if n == 0:\n    return 1\n  else:\n    return n * factorial(n-1)\n```"
          },
          "metadata": {},
          "execution_count": 30
        }
      ],
      "execution_count": 30
    },
    {
      "cell_type": "markdown",
      "source": [
        "### Code execution\n",
        "\n",
        "The Gemini API can automatically run generated code too, and will return the output.\n",
        "\n",
        "<table align=left>\n",
        "  <td>\n",
        "    <a target=\"_blank\" href=\"https://aistudio.google.com/prompts/11veFr_VYEwBWcLkhNLr-maCG0G8sS_7Z\"><img src=\"https://ai.google.dev/site-assets/images/marketing/home/icon-ais.png\" style=\"height: 24px\" height=24/> Open in AI Studio</a>\n",
        "  </td>\n",
        "</table>"
      ],
      "metadata": {
        "id": "wlBMWSFhgVRQ"
      }
    },
    {
      "cell_type": "code",
      "source": [
        "model = genai.GenerativeModel(\n",
        "    'gemini-1.5-flash-latest',\n",
        "    tools='code_execution',)\n",
        "\n",
        "code_exec_prompt = \"\"\"\n",
        "Calculate the sum of the first 14 prime numbers. Only consider the odd primes, and make sure you count them all.\n",
        "\"\"\"\n",
        "\n",
        "response = model.generate_content(code_exec_prompt, request_options=retry_policy)\n",
        "Markdown(response.text)"
      ],
      "metadata": {
        "id": "jT3OfWYfhjRL",
        "trusted": true,
        "execution": {
          "iopub.status.busy": "2024-11-13T17:34:40.104351Z",
          "iopub.execute_input": "2024-11-13T17:34:40.105044Z",
          "iopub.status.idle": "2024-11-13T17:34:41.538426Z",
          "shell.execute_reply.started": "2024-11-13T17:34:40.104995Z",
          "shell.execute_reply": "2024-11-13T17:34:41.53722Z"
        },
        "colab": {
          "base_uri": "https://localhost:8080/",
          "height": 185
        },
        "outputId": "2b52e4aa-e715-4eed-fc7b-bd4e43bdba23"
      },
      "outputs": [
        {
          "output_type": "execute_result",
          "data": {
            "text/plain": [
              "<IPython.core.display.Markdown object>"
            ],
            "text/markdown": "\n``` python\nimport sympy\n\nprimes = sympy.primerange(2, 100)\nodd_primes = [prime for prime in primes if prime % 2 != 0]\nsum_of_primes = sum(odd_primes[:14])\nprint(f'{sum_of_primes=}')\n\n```\n```\nsum_of_primes=326\n\n```\nI used the sympy library to generate a list of prime numbers between 2 and 100. Then I filtered out the even primes and took the first 14 elements of the remaining list. Finally, I summed the elements in the list.  The sum of the first 14 odd primes is 326. \n"
          },
          "metadata": {},
          "execution_count": 31
        }
      ],
      "execution_count": 31
    },
    {
      "cell_type": "markdown",
      "source": [
        "While this looks like a single-part response, you can inspect the response to see the each of the steps: initial text, code generation, execution results, and final text summary."
      ],
      "metadata": {
        "id": "ZspT1GSkjG6d"
      }
    },
    {
      "cell_type": "code",
      "source": [
        "for part in response.candidates[0].content.parts:\n",
        "  print(part)\n",
        "  print(\"-----\")"
      ],
      "metadata": {
        "id": "j4gQVzcRjRX-",
        "trusted": true,
        "execution": {
          "iopub.status.busy": "2024-11-13T17:35:27.080499Z",
          "iopub.execute_input": "2024-11-13T17:35:27.081069Z",
          "iopub.status.idle": "2024-11-13T17:35:27.088211Z",
          "shell.execute_reply.started": "2024-11-13T17:35:27.081016Z",
          "shell.execute_reply": "2024-11-13T17:35:27.087065Z"
        },
        "colab": {
          "base_uri": "https://localhost:8080/"
        },
        "outputId": "7971673d-a87a-490c-cc4a-9965485c124e"
      },
      "outputs": [
        {
          "output_type": "stream",
          "name": "stdout",
          "text": [
            "text: \"\"\n",
            "\n",
            "-----\n",
            "executable_code {\n",
            "  language: PYTHON\n",
            "  code: \"\\nimport sympy\\n\\nprimes = sympy.primerange(2, 100)\\nodd_primes = [prime for prime in primes if prime % 2 != 0]\\nsum_of_primes = sum(odd_primes[:14])\\nprint(f\\'{sum_of_primes=}\\')\\n\"\n",
            "}\n",
            "\n",
            "-----\n",
            "code_execution_result {\n",
            "  outcome: OUTCOME_OK\n",
            "  output: \"sum_of_primes=326\\n\"\n",
            "}\n",
            "\n",
            "-----\n",
            "text: \"I used the sympy library to generate a list of prime numbers between 2 and 100. Then I filtered out the even primes and took the first 14 elements of the remaining list. Finally, I summed the elements in the list.  The sum of the first 14 odd primes is 326. \\n\"\n",
            "\n",
            "-----\n"
          ]
        }
      ],
      "execution_count": 32
    },
    {
      "cell_type": "markdown",
      "source": [
        "### Explaining code\n",
        "\n",
        "The Gemini family of models can explain code to you too.\n",
        "\n",
        "<table align=left>\n",
        "  <td>\n",
        "    <a target=\"_blank\" href=\"https://aistudio.google.com/prompts/1N7LGzWzCYieyOf_7bAG4plrmkpDNmUyb\"><img src=\"https://ai.google.dev/site-assets/images/marketing/home/icon-ais.png\" style=\"height: 24px\" height=24/> Open in AI Studio</a>\n",
        "  </td>\n",
        "</table>"
      ],
      "metadata": {
        "id": "1gUX8QzCj4d5"
      }
    },
    {
      "cell_type": "code",
      "source": [
        "file_contents = !curl https://raw.githubusercontent.com/magicmonty/bash-git-prompt/refs/heads/master/gitprompt.sh\n",
        "\n",
        "explain_prompt = f\"\"\"\n",
        "Please explain what this file does at a very high level. What is it, and why would I use it?\n",
        "\n",
        "```\n",
        "{file_contents}\n",
        "```\n",
        "\"\"\"\n",
        "\n",
        "model = genai.GenerativeModel('gemini-1.5-flash-latest')\n",
        "\n",
        "response = model.generate_content(explain_prompt, request_options=retry_policy)\n",
        "Markdown(response.text)"
      ],
      "metadata": {
        "id": "7_jPMMoxkIEb",
        "trusted": true,
        "execution": {
          "iopub.status.busy": "2024-11-13T17:35:51.288996Z",
          "iopub.execute_input": "2024-11-13T17:35:51.2895Z",
          "iopub.status.idle": "2024-11-13T17:35:54.283204Z",
          "shell.execute_reply.started": "2024-11-13T17:35:51.289415Z",
          "shell.execute_reply": "2024-11-13T17:35:54.281624Z"
        },
        "colab": {
          "base_uri": "https://localhost:8080/",
          "height": 498
        },
        "outputId": "529e2476-3cb9-4d6c-8272-817400d5f6cc"
      },
      "outputs": [
        {
          "output_type": "execute_result",
          "data": {
            "text/plain": [
              "<IPython.core.display.Markdown object>"
            ],
            "text/markdown": "This file is a bash/zsh script that provides a powerful Git prompt for your terminal. Here's a breakdown of its purpose and why you would use it:\n\n**What it does:**\n\n* **Enhances your terminal prompt:** Instead of the usual `[user@host path]$`, it dynamically displays relevant Git information within the prompt itself.\n* **Shows Git status:** It includes elements like branch name, upstream status (ahead/behind), staged changes, conflicts, uncommitted changes, etc., providing a quick overview of your repository's state.\n* **Customizable:** You can configure various aspects, including:\n    * **Theme:** Choose from pre-defined themes or create your own to tailor colors and symbols.\n    * **Symbols:** Select symbols for different states (ahead, behind, etc.) to your liking.\n    * **Information shown:** You can control what Git information appears in the prompt.\n* **Remote status:**  Optionally, it periodically fetches remote revisions, keeping the prompt up-to-date with upstream status.\n* **Virtual environment integration:**  Shows the name of your active virtual environment (if any) within the prompt.\n* **User/Repo:**  Optionally, shows the username and repository name (extracted from the remote URL) for better context.\n\n**Why use it:**\n\n* **Improved workflow:** Quickly see Git status without needing to run separate commands, improving your workflow and context awareness.\n* **Enhanced clarity:**  The visual cues of the Git prompt provide a clear indication of the current repository state.\n* **Customization:** Tailor the prompt to your preferences and workflow.\n\n**How to use it:**\n\n1. **Download:** Save the script to a location on your system.\n2. **Source it:**  Add the following line to your `.bashrc` or `.zshrc` file:\n   ```bash\n   source /path/to/git-prompt.sh \n   ```\n3. **Enable:**  Run the following command in your terminal:\n   ```bash\n   gp_install_prompt\n   ```\n\nAfter restarting your terminal, you'll start seeing the enhanced Git prompt! \n"
          },
          "metadata": {},
          "execution_count": 33
        }
      ],
      "execution_count": 33
    },
    {
      "cell_type": "markdown",
      "source": [
        "## Learn more\n",
        "\n",
        "To learn more about prompting in depth:\n",
        "\n",
        "* Check out the whitepaper issued with today's content,\n",
        "* Try out the apps listed at the top of this notebook ([TextFX](https://textfx.withgoogle.com/), [SQL Talk](https://sql-talk-r5gdynozbq-uc.a.run.app/) and [NotebookLM](https://notebooklm.google/)),\n",
        "* Read the [Introduction to Prompting](https://ai.google.dev/gemini-api/docs/prompting-intro) from the Gemini API docs,\n",
        "* Explore the Gemini API's [prompt gallery](https://ai.google.dev/gemini-api/prompts) and try them out in AI Studio,\n",
        "* Check out the Gemini API cookbook for [inspirational examples](https://github.com/google-gemini/cookbook/blob/main/examples/) and [educational quickstarts](https://github.com/google-gemini/cookbook/blob/main/quickstarts/).\n",
        "\n",
        "And please share anything exciting you have tried in the Discord!"
      ],
      "metadata": {
        "id": "2a8266d97ce5"
      }
    }
  ]
}