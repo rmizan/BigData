{
  "metadata": {
    "kernelspec": {
      "name": "python3",
      "display_name": "Python 3",
      "language": "python"
    },
    "language_info": {
      "name": "python",
      "version": "3.10.14",
      "mimetype": "text/x-python",
      "codemirror_mode": {
        "name": "ipython",
        "version": 3
      },
      "pygments_lexer": "ipython3",
      "nbconvert_exporter": "python",
      "file_extension": ".py"
    },
    "colab": {
      "toc_visible": true,
      "name": "Day 3 - Function calling with the Gemini API",
      "provenance": [],
      "include_colab_link": true
    },
    "kaggle": {
      "accelerator": "none",
      "dataSources": [],
      "dockerImageVersionId": 30786,
      "isInternetEnabled": true,
      "language": "python",
      "sourceType": "notebook",
      "isGpuEnabled": false
    }
  },
  "nbformat_minor": 0,
  "nbformat": 4,
  "cells": [
    {
      "cell_type": "markdown",
      "metadata": {
        "id": "view-in-github",
        "colab_type": "text"
      },
      "source": [
        "<a href=\"https://colab.research.google.com/github/rmizan/BigData/blob/master/Day_3_Function_calling_with_the_Gemini_API.ipynb\" target=\"_parent\"><img src=\"https://colab.research.google.com/assets/colab-badge.svg\" alt=\"Open In Colab\"/></a>"
      ]
    },
    {
      "cell_type": "markdown",
      "source": [
        "##### Copyright 2024 Google LLC."
      ],
      "metadata": {
        "id": "b6e13eef3f5d"
      }
    },
    {
      "cell_type": "code",
      "source": [
        "# @title Licensed under the Apache License, Version 2.0 (the \"License\");\n",
        "# you may not use this file except in compliance with the License.\n",
        "# You may obtain a copy of the License at\n",
        "#\n",
        "# https://www.apache.org/licenses/LICENSE-2.0\n",
        "#\n",
        "# Unless required by applicable law or agreed to in writing, software\n",
        "# distributed under the License is distributed on an \"AS IS\" BASIS,\n",
        "# WITHOUT WARRANTIES OR CONDITIONS OF ANY KIND, either express or implied.\n",
        "# See the License for the specific language governing permissions and\n",
        "# limitations under the License."
      ],
      "metadata": {
        "cellView": "form",
        "id": "d6597b11df14",
        "trusted": true
      },
      "outputs": [],
      "execution_count": null
    },
    {
      "cell_type": "markdown",
      "source": [
        "# Day 3 - Function calling with the Gemini API\n",
        "\n",
        "Welcome back to the Kaggle 5-day Generative AI course!\n",
        "\n",
        "In this notebook, you will use the Gemini API's automatic function calling to build a chat interface over a local database. This example is a toy and is missing a number of safety and security constraints you would use in a real-world example.\n",
        "\n",
        "## For help\n",
        "\n",
        "**Common issues are covered in the [FAQ and troubleshooting guide](https://www.kaggle.com/code/markishere/day-0-troubleshooting-and-faqs).**"
      ],
      "metadata": {
        "id": "4a7d3bb68371"
      }
    },
    {
      "cell_type": "markdown",
      "source": [
        "## Setup\n",
        "\n",
        "Start by installing and importing the Python SDK."
      ],
      "metadata": {
        "id": "ea197d1d464f"
      }
    },
    {
      "cell_type": "code",
      "source": [
        "%pip install -q -U 'google-generativeai>=0.8.3'"
      ],
      "metadata": {
        "id": "a24f42e469df",
        "trusted": true,
        "execution": {
          "iopub.status.busy": "2024-11-13T20:45:13.289527Z",
          "iopub.execute_input": "2024-11-13T20:45:13.290109Z",
          "iopub.status.idle": "2024-11-13T20:45:53.250107Z",
          "shell.execute_reply.started": "2024-11-13T20:45:13.290044Z",
          "shell.execute_reply": "2024-11-13T20:45:53.248668Z"
        }
      },
      "outputs": [],
      "execution_count": 1
    },
    {
      "cell_type": "code",
      "source": [
        "import google.generativeai as genai"
      ],
      "metadata": {
        "id": "02bb0f551e25",
        "trusted": true,
        "execution": {
          "iopub.status.busy": "2024-11-13T20:45:57.835178Z",
          "iopub.execute_input": "2024-11-13T20:45:57.835783Z",
          "iopub.status.idle": "2024-11-13T20:45:59.353556Z",
          "shell.execute_reply.started": "2024-11-13T20:45:57.835728Z",
          "shell.execute_reply": "2024-11-13T20:45:59.352293Z"
        }
      },
      "outputs": [],
      "execution_count": 2
    },
    {
      "cell_type": "markdown",
      "source": [
        "### Set up your API key\n",
        "\n",
        "To run the following cell, your API key must be stored it in a [Kaggle secret](https://www.kaggle.com/discussions/product-feedback/114053) named `GOOGLE_API_KEY`.\n",
        "\n",
        "If you don't already have an API key, you can grab one from [AI Studio](https://aistudio.google.com/app/apikey). You can find [detailed instructions in the docs](https://ai.google.dev/gemini-api/docs/api-key).\n",
        "\n",
        "To make the key available through Kaggle secrets, choose `Secrets` from the `Add-ons` menu and follow the instructions to add your key or enable it for this notebook."
      ],
      "metadata": {
        "id": "90e83cddff61"
      }
    },
    {
      "cell_type": "code",
      "source": [
        "# from kaggle_secrets import UserSecretsClient\n",
        "\n",
        "# GOOGLE_API_KEY = UserSecretsClient().get_secret(\"GOOGLE_API_KEY\")\n",
        "# genai.configure(api_key=GOOGLE_API_KEY)\n",
        "\n",
        "# Kaggle API Key\n",
        "# from kaggle_secrets import UserSecretsClient\n",
        "# user_secrets = UserSecretsClient()\n",
        "# secret_value_0 = user_secrets.get_secret(\"GOOGLE_API_KEY\")\n",
        "# genai.configure(api_key=secret_value_0)\n",
        "\n",
        "# For Google Colab API Key\n",
        "import google.generativeai as genai\n",
        "from google.colab import userdata\n",
        "\n",
        "GOOGLE_API_KEY=userdata.get('GOOGLE_API_KEY')\n",
        "genai.configure(api_key=GOOGLE_API_KEY)"
      ],
      "metadata": {
        "id": "5cc8325f051d",
        "trusted": true,
        "execution": {
          "iopub.status.busy": "2024-11-13T20:46:34.276666Z",
          "iopub.execute_input": "2024-11-13T20:46:34.277093Z",
          "iopub.status.idle": "2024-11-13T20:46:34.350487Z",
          "shell.execute_reply.started": "2024-11-13T20:46:34.277053Z",
          "shell.execute_reply": "2024-11-13T20:46:34.349343Z"
        }
      },
      "outputs": [],
      "execution_count": 3
    },
    {
      "cell_type": "markdown",
      "source": [
        "If you received an error response along the lines of `No user secrets exist for kernel id ...`, then you need to add your API key via `Add-ons`, `Secrets` **and** enable it.\n",
        "\n",
        "![Screenshot of the checkbox to enable GOOGLE_API_KEY secret](https://storage.googleapis.com/kaggle-media/Images/5gdai_sc_3.png)"
      ],
      "metadata": {
        "id": "857b6f96eb38"
      }
    },
    {
      "cell_type": "markdown",
      "source": [
        "## Create a local database\n",
        "\n",
        "For this minimal example, you'll create a local SQLite database and add some synthetic data so you have something to query.\n",
        "\n",
        "Load the `sql` IPython extension so you can interact with the database using magic commands (the `%` instructions) to create a new, empty SQLite database."
      ],
      "metadata": {
        "id": "ed8fc6062c62"
      }
    },
    {
      "cell_type": "code",
      "source": [
        "%load_ext sql\n",
        "%sql sqlite:///sample.db"
      ],
      "metadata": {
        "id": "c98a627ef07b",
        "trusted": true,
        "execution": {
          "iopub.status.busy": "2024-11-13T20:47:02.89844Z",
          "iopub.execute_input": "2024-11-13T20:47:02.8989Z",
          "iopub.status.idle": "2024-11-13T20:47:04.344911Z",
          "shell.execute_reply.started": "2024-11-13T20:47:02.898857Z",
          "shell.execute_reply": "2024-11-13T20:47:04.343646Z"
        }
      },
      "outputs": [],
      "execution_count": 4
    },
    {
      "cell_type": "markdown",
      "source": [
        "Create the tables and insert some synthetic data. Feel free to tweak this structure and data."
      ],
      "metadata": {
        "id": "14e7bc18b8af"
      }
    },
    {
      "cell_type": "code",
      "source": [
        "%%sql\n",
        "-- Create the 'products' table\n",
        "CREATE TABLE IF NOT EXISTS products (\n",
        "  \tproduct_id INTEGER PRIMARY KEY AUTOINCREMENT,\n",
        "  \tproduct_name VARCHAR(255) NOT NULL,\n",
        "  \tprice DECIMAL(10, 2) NOT NULL\n",
        "  );\n",
        "\n",
        "-- Create the 'staff' table\n",
        "CREATE TABLE IF NOT EXISTS staff (\n",
        "  \tstaff_id INTEGER PRIMARY KEY AUTOINCREMENT,\n",
        "  \tfirst_name VARCHAR(255) NOT NULL,\n",
        "  \tlast_name VARCHAR(255) NOT NULL\n",
        "  );\n",
        "\n",
        "-- Create the 'orders' table\n",
        "CREATE TABLE IF NOT EXISTS orders (\n",
        "  \torder_id INTEGER PRIMARY KEY AUTOINCREMENT,\n",
        "  \tcustomer_name VARCHAR(255) NOT NULL,\n",
        "  \tstaff_id INTEGER NOT NULL,\n",
        "  \tproduct_id INTEGER NOT NULL,\n",
        "  \tFOREIGN KEY (staff_id) REFERENCES staff (staff_id),\n",
        "  \tFOREIGN KEY (product_id) REFERENCES products (product_id)\n",
        "  );\n",
        "\n",
        "-- Insert data into the 'products' table\n",
        "INSERT INTO products (product_name, price) VALUES\n",
        "  \t('Laptop', 799.99),\n",
        "  \t('Keyboard', 129.99),\n",
        "  \t('Mouse', 29.99),\n",
        "    ('Monitor', 149.99);\n",
        "\n",
        "-- Insert data into the 'staff' table\n",
        "INSERT INTO staff (first_name, last_name) VALUES\n",
        "  \t('Alice', 'Smith'),\n",
        "  \t('Bob', 'Johnson'),\n",
        "  \t('Charlie', 'Williams'),\n",
        "    ('Andy', 'Anderson');\n",
        "\n",
        "-- Insert data into the 'orders' table\n",
        "INSERT INTO orders (customer_name, staff_id, product_id) VALUES\n",
        "  \t('David Lee', 1, 1),\n",
        "  \t('Emily Chen', 2, 2),\n",
        "  \t('Frank Brown', 1, 3),\n",
        "    ('John Cunningham', 4, 5);"
      ],
      "metadata": {
        "id": "4e186de46cf1",
        "trusted": true,
        "execution": {
          "iopub.status.busy": "2024-11-13T20:50:43.828589Z",
          "iopub.execute_input": "2024-11-13T20:50:43.829042Z",
          "iopub.status.idle": "2024-11-13T20:50:43.880955Z",
          "shell.execute_reply.started": "2024-11-13T20:50:43.828997Z",
          "shell.execute_reply": "2024-11-13T20:50:43.879744Z"
        },
        "colab": {
          "base_uri": "https://localhost:8080/"
        },
        "outputId": "7ce44535-57ea-4ab0-99e5-bda00260dbcf"
      },
      "outputs": [
        {
          "output_type": "stream",
          "name": "stdout",
          "text": [
            " * sqlite:///sample.db\n",
            "Done.\n",
            "Done.\n",
            "Done.\n",
            "4 rows affected.\n",
            "4 rows affected.\n",
            "4 rows affected.\n"
          ]
        },
        {
          "output_type": "execute_result",
          "data": {
            "text/plain": [
              "[]"
            ]
          },
          "metadata": {},
          "execution_count": 5
        }
      ],
      "execution_count": 5
    },
    {
      "cell_type": "markdown",
      "source": [
        "## Define database functions\n",
        "\n",
        "Function calling with Gemini API's Python SDK can be implemented by defining [an OpenAPI schema](https://ai.google.dev/api/caching#Schema) that is passed to the model. Alternatively you can define Python functions and let the SDK inspect them to automatically define the schema. In this latter case, it's important that the functions are type annotated and have accurate docstrings that describe what the functions do - the model has no insight into the function body, so the docs function as the interface.\n",
        "\n",
        "By providing three key pieces of functionality - listing tables, describing a table, and executing a query - the LLM (or even another user) will have the basic tools needed to understand and interrogate the database.\n",
        "\n",
        "Start with a database connection that will be used across all of the functions."
      ],
      "metadata": {
        "id": "83901899a79b"
      }
    },
    {
      "cell_type": "code",
      "source": [
        "import sqlite3\n",
        "\n",
        "db_file = \"sample.db\"\n",
        "db_conn = sqlite3.connect(db_file)"
      ],
      "metadata": {
        "id": "437168bc6b6e",
        "trusted": true,
        "execution": {
          "iopub.status.busy": "2024-11-13T20:52:09.746759Z",
          "iopub.execute_input": "2024-11-13T20:52:09.747229Z",
          "iopub.status.idle": "2024-11-13T20:52:09.753622Z",
          "shell.execute_reply.started": "2024-11-13T20:52:09.747185Z",
          "shell.execute_reply": "2024-11-13T20:52:09.752318Z"
        }
      },
      "outputs": [],
      "execution_count": 6
    },
    {
      "cell_type": "markdown",
      "source": [
        "The first function will list all tables available in the database. Define it, and test it out to ensure it works."
      ],
      "metadata": {
        "id": "b68b1a2c37d9"
      }
    },
    {
      "cell_type": "code",
      "source": [
        "def list_tables() -> list[str]:\n",
        "    \"\"\"Retrieve the names of all tables in the database.\"\"\"\n",
        "    # Include print logging statements so you can see when functions are being called.\n",
        "    print(' - DB CALL: list_tables')\n",
        "\n",
        "    cursor = db_conn.cursor()\n",
        "\n",
        "    # Fetch the table names.\n",
        "    cursor.execute(\"SELECT name FROM sqlite_master WHERE type='table';\")\n",
        "\n",
        "    tables = cursor.fetchall()\n",
        "    return [t[0] for t in tables]\n",
        "\n",
        "\n",
        "list_tables()"
      ],
      "metadata": {
        "id": "bdb0e4d2bb4b",
        "trusted": true,
        "execution": {
          "iopub.status.busy": "2024-11-13T20:53:25.998039Z",
          "iopub.execute_input": "2024-11-13T20:53:25.999477Z",
          "iopub.status.idle": "2024-11-13T20:53:26.010798Z",
          "shell.execute_reply.started": "2024-11-13T20:53:25.999419Z",
          "shell.execute_reply": "2024-11-13T20:53:26.009437Z"
        },
        "colab": {
          "base_uri": "https://localhost:8080/"
        },
        "outputId": "01ffcbe1-3a74-45b9-aa30-5ba696f13424"
      },
      "outputs": [
        {
          "output_type": "stream",
          "name": "stdout",
          "text": [
            " - DB CALL: list_tables\n"
          ]
        },
        {
          "output_type": "execute_result",
          "data": {
            "text/plain": [
              "['products', 'sqlite_sequence', 'staff', 'orders']"
            ]
          },
          "metadata": {},
          "execution_count": 7
        }
      ],
      "execution_count": 7
    },
    {
      "cell_type": "markdown",
      "source": [
        "Once the available tables is known, the next step a database user will need is to understand what columns are available in a given table. Define that too, and test that it works as expected."
      ],
      "metadata": {
        "id": "b6c010b1b6c2"
      }
    },
    {
      "cell_type": "code",
      "source": [
        "def describe_table(table_name: str) -> list[tuple[str, str]]:\n",
        "    \"\"\"Look up the table schema.\n",
        "\n",
        "    Returns:\n",
        "      List of columns, where each entry is a tuple of (column, type).\n",
        "    \"\"\"\n",
        "    print(' - DB CALL: describe_table')\n",
        "\n",
        "    cursor = db_conn.cursor()\n",
        "\n",
        "    cursor.execute(f\"PRAGMA table_info({table_name});\")\n",
        "\n",
        "    schema = cursor.fetchall()\n",
        "    # [column index, column name, column type, ...]\n",
        "    return [(col[1], col[2]) for col in schema]\n",
        "\n",
        "\n",
        "describe_table(\"products\")"
      ],
      "metadata": {
        "id": "ecdb109298c4",
        "trusted": true,
        "execution": {
          "iopub.status.busy": "2024-11-13T20:54:58.813456Z",
          "iopub.execute_input": "2024-11-13T20:54:58.813974Z",
          "iopub.status.idle": "2024-11-13T20:54:58.827052Z",
          "shell.execute_reply.started": "2024-11-13T20:54:58.813928Z",
          "shell.execute_reply": "2024-11-13T20:54:58.825717Z"
        },
        "colab": {
          "base_uri": "https://localhost:8080/"
        },
        "outputId": "fa2062be-f47a-4e32-bb2e-bff9cdf4ea9b"
      },
      "outputs": [
        {
          "output_type": "stream",
          "name": "stdout",
          "text": [
            " - DB CALL: describe_table\n"
          ]
        },
        {
          "output_type": "execute_result",
          "data": {
            "text/plain": [
              "[('product_id', 'INTEGER'),\n",
              " ('product_name', 'VARCHAR(255)'),\n",
              " ('price', 'DECIMAL(10, 2)')]"
            ]
          },
          "metadata": {},
          "execution_count": 8
        }
      ],
      "execution_count": 8
    },
    {
      "cell_type": "markdown",
      "source": [
        "Now that the system knows what tables and columns are present, it has enough information to be able to generate and run a `SELECT` query. Now provide that functionality, and test that it works."
      ],
      "metadata": {
        "id": "f6053a2ca272"
      }
    },
    {
      "cell_type": "code",
      "source": [
        "def execute_query(sql: str) -> list[list[str]]:\n",
        "    \"\"\"Execute a SELECT statement, returning the results.\"\"\"\n",
        "    print(' - DB CALL: execute_query')\n",
        "\n",
        "    cursor = db_conn.cursor()\n",
        "\n",
        "    cursor.execute(sql)\n",
        "    return cursor.fetchall()\n",
        "\n",
        "\n",
        "execute_query(\"select * from products\")"
      ],
      "metadata": {
        "id": "9e405db8b3f6",
        "trusted": true,
        "execution": {
          "iopub.status.busy": "2024-11-13T20:55:27.517469Z",
          "iopub.execute_input": "2024-11-13T20:55:27.518404Z",
          "iopub.status.idle": "2024-11-13T20:55:27.52906Z",
          "shell.execute_reply.started": "2024-11-13T20:55:27.518352Z",
          "shell.execute_reply": "2024-11-13T20:55:27.527784Z"
        },
        "colab": {
          "base_uri": "https://localhost:8080/"
        },
        "outputId": "d634e998-2ba6-4df2-fb21-c1f39ce0950f"
      },
      "outputs": [
        {
          "output_type": "stream",
          "name": "stdout",
          "text": [
            " - DB CALL: execute_query\n"
          ]
        },
        {
          "output_type": "execute_result",
          "data": {
            "text/plain": [
              "[(1, 'Laptop', 799.99),\n",
              " (2, 'Keyboard', 129.99),\n",
              " (3, 'Mouse', 29.99),\n",
              " (4, 'Monitor', 149.99)]"
            ]
          },
          "metadata": {},
          "execution_count": 9
        }
      ],
      "execution_count": 9
    },
    {
      "cell_type": "markdown",
      "source": [
        "## Implement function calls\n",
        "\n",
        "Now you can put it all together in a call to the Gemini API.\n",
        "\n",
        "Function calling works by adding specific messages to a chat session. When function schemas are defined and made available to the model and a conversation is started, instead of returning a text response, the model may return a `function_call` instead. When this happens, the client must respond with a `function_response`, indicating the result of the call, and the conversation can continue on as normal.\n",
        "\n",
        "This function calling interaction normally happens manually, allowing you, the client, to validate and initiate the call. However the Python SDK also supports **automatic function calling**, where the supplied functions will be automatically invoked. This is a powerful feature and should only be exposed when it is safe to do so, such as when the functions have no [side-effects](https://en.wikipedia.org/wiki/Side_effect_(computer_science)).\n",
        "\n",
        "Here's the state diagram representing the conversation flow with function calling. With automatic function calling, the bottom row is executed automatically by the Python SDK. In manual function calling, you write the code to run each step individually.\n",
        "\n",
        "![function calling state diagram](https://codelabs.developers.google.com/static/codelabs/gemini-function-calling/img/gemini-function-calling-overview_1440.png)"
      ],
      "metadata": {
        "id": "ac464dfb35a0"
      }
    },
    {
      "cell_type": "code",
      "source": [
        "# These are the Python functions defined above.\n",
        "db_tools = [list_tables, describe_table, execute_query]\n",
        "\n",
        "instruction = \"\"\"You are a helpful chatbot that can interact with an SQL database for a computer\n",
        "store. You will take the users questions and turn them into SQL queries using the tools\n",
        "available. Once you have the information you need, you will answer the user's question using\n",
        "the data returned. Use list_tables to see what tables are present, describe_table to understand\n",
        "the schema, and execute_query to issue an SQL SELECT query.\"\"\"\n",
        "\n",
        "model = genai.GenerativeModel(\n",
        "    \"models/gemini-1.5-flash-latest\", tools=db_tools, system_instruction=instruction\n",
        ")\n",
        "\n",
        "# Define a retry policy. The model might make multiple consecutive calls automatically\n",
        "# for a complex query, this ensures the client retries if it hits quota limits.\n",
        "from google.api_core import retry\n",
        "\n",
        "retry_policy = {\"retry\": retry.Retry(predicate=retry.if_transient_error)}\n",
        "\n",
        "# Start a chat with automatic function calling enabled.\n",
        "chat = model.start_chat(enable_automatic_function_calling=True)"
      ],
      "metadata": {
        "id": "f4839540066d",
        "trusted": true,
        "execution": {
          "iopub.status.busy": "2024-11-13T21:02:23.143023Z",
          "iopub.execute_input": "2024-11-13T21:02:23.143498Z",
          "iopub.status.idle": "2024-11-13T21:02:23.158599Z",
          "shell.execute_reply.started": "2024-11-13T21:02:23.143456Z",
          "shell.execute_reply": "2024-11-13T21:02:23.157286Z"
        }
      },
      "outputs": [],
      "execution_count": 10
    },
    {
      "cell_type": "markdown",
      "source": [
        "Now you can engage in a chat conversation where you can ask about the contents of the database."
      ],
      "metadata": {
        "id": "5f120977f1ee"
      }
    },
    {
      "cell_type": "code",
      "source": [
        "resp = chat.send_message(\"What is the cheapest product?\", request_options=retry_policy)\n",
        "print(resp.text)"
      ],
      "metadata": {
        "id": "111cfb79338b",
        "trusted": true,
        "execution": {
          "iopub.status.busy": "2024-11-13T21:02:31.909689Z",
          "iopub.execute_input": "2024-11-13T21:02:31.910181Z",
          "iopub.status.idle": "2024-11-13T21:02:33.337787Z",
          "shell.execute_reply.started": "2024-11-13T21:02:31.910134Z",
          "shell.execute_reply": "2024-11-13T21:02:33.33653Z"
        },
        "colab": {
          "base_uri": "https://localhost:8080/",
          "height": 104
        },
        "outputId": "1225058a-66b0-41a5-f6a2-172f7d0c410d"
      },
      "outputs": [
        {
          "output_type": "stream",
          "name": "stdout",
          "text": [
            " - DB CALL: list_tables\n",
            " - DB CALL: describe_table\n",
            " - DB CALL: execute_query\n",
            "The cheapest product is Mouse. \n",
            "\n"
          ]
        }
      ],
      "execution_count": 11
    },
    {
      "cell_type": "markdown",
      "source": [
        "If you re-use the same [`ChatSession`](https://github.com/google-gemini/generative-ai-python/blob/main/docs/api/google/generativeai/ChatSession.md) object, the conversation will continue statefully. If you wish to start fresh, you can call [`start_chat`](https://github.com/google-gemini/generative-ai-python/blob/main/docs/api/google/generativeai/GenerativeModel.md#start_chat) again, or call [`rewind`](https://github.com/google-gemini/generative-ai-python/blob/main/docs/api/google/generativeai/ChatSession.md#rewind) on the chat object to go back a turn.\n",
        "\n",
        "Continue the chat here by asking a follow-up question. Note that the database information is preserved, and the context of the specific product is inferred."
      ],
      "metadata": {
        "id": "43595d4ef920"
      }
    },
    {
      "cell_type": "code",
      "source": [
        "resp = chat.send_message(\"and how much is it?\", request_options=retry_policy)\n",
        "print(resp.text)"
      ],
      "metadata": {
        "id": "647cbcc43993",
        "trusted": true,
        "execution": {
          "iopub.status.busy": "2024-11-13T21:04:08.440856Z",
          "iopub.execute_input": "2024-11-13T21:04:08.441332Z",
          "iopub.status.idle": "2024-11-13T21:04:09.075285Z",
          "shell.execute_reply.started": "2024-11-13T21:04:08.441286Z",
          "shell.execute_reply": "2024-11-13T21:04:09.07398Z"
        },
        "colab": {
          "base_uri": "https://localhost:8080/",
          "height": 69
        },
        "outputId": "d3836b9e-86be-4fcf-c5d6-c86eb86c9a39"
      },
      "outputs": [
        {
          "output_type": "stream",
          "name": "stdout",
          "text": [
            " - DB CALL: execute_query\n",
            "The cheapest product, the Mouse, costs $29.99. \n",
            "\n"
          ]
        }
      ],
      "execution_count": 12
    },
    {
      "cell_type": "markdown",
      "source": [
        "Explore the chat session and ask your own questions. If you want to try asking more complex questions, try using the `gemini-1.5-pro` model. It has a lower rate limit, so calls might take a bit longer on the free tier, but you'll notice an improvement in expressivity."
      ],
      "metadata": {
        "id": "d67f635191c8"
      }
    },
    {
      "cell_type": "code",
      "source": [
        "model = genai.GenerativeModel(\n",
        "    \"models/gemini-1.5-pro-latest\", tools=db_tools, system_instruction=instruction\n",
        ")\n",
        "\n",
        "chat = model.start_chat(enable_automatic_function_calling=True)\n",
        "response = chat.send_message('Which salesperson sold the cheapest product?', request_options=retry_policy)\n",
        "print(response.text)"
      ],
      "metadata": {
        "trusted": true,
        "execution": {
          "iopub.status.busy": "2024-11-13T21:04:18.504317Z",
          "iopub.execute_input": "2024-11-13T21:04:18.504812Z",
          "iopub.status.idle": "2024-11-13T21:05:28.711384Z",
          "shell.execute_reply.started": "2024-11-13T21:04:18.504765Z",
          "shell.execute_reply": "2024-11-13T21:05:28.709715Z"
        },
        "colab": {
          "base_uri": "https://localhost:8080/",
          "height": 243
        },
        "id": "jMSniaoiWNVQ",
        "outputId": "9f61c56e-83d1-470c-bbe4-8ac13a45d5e8"
      },
      "outputs": [
        {
          "output_type": "stream",
          "name": "stdout",
          "text": [
            " - DB CALL: list_tables\n",
            " - DB CALL: describe_table\n",
            " - DB CALL: describe_table\n"
          ]
        },
        {
          "output_type": "stream",
          "name": "stderr",
          "text": [
            "WARNING:tornado.access:429 POST /v1beta/models/gemini-1.5-pro-latest:generateContent?%24alt=json%3Benum-encoding%3Dint (127.0.0.1) 217.65ms\n",
            "WARNING:tornado.access:429 POST /v1beta/models/gemini-1.5-pro-latest:generateContent?%24alt=json%3Benum-encoding%3Dint (127.0.0.1) 204.29ms\n",
            "WARNING:tornado.access:429 POST /v1beta/models/gemini-1.5-pro-latest:generateContent?%24alt=json%3Benum-encoding%3Dint (127.0.0.1) 186.54ms\n",
            "WARNING:tornado.access:429 POST /v1beta/models/gemini-1.5-pro-latest:generateContent?%24alt=json%3Benum-encoding%3Dint (127.0.0.1) 251.08ms\n",
            "WARNING:tornado.access:429 POST /v1beta/models/gemini-1.5-pro-latest:generateContent?%24alt=json%3Benum-encoding%3Dint (127.0.0.1) 204.01ms\n",
            "WARNING:tornado.access:429 POST /v1beta/models/gemini-1.5-pro-latest:generateContent?%24alt=json%3Benum-encoding%3Dint (127.0.0.1) 204.29ms\n",
            "WARNING:tornado.access:429 POST /v1beta/models/gemini-1.5-pro-latest:generateContent?%24alt=json%3Benum-encoding%3Dint (127.0.0.1) 203.98ms\n"
          ]
        },
        {
          "output_type": "stream",
          "name": "stdout",
          "text": [
            " - DB CALL: describe_table\n",
            " - DB CALL: execute_query\n",
            "Alice Smith sold the cheapest product.\n"
          ]
        }
      ],
      "execution_count": 13
    },
    {
      "cell_type": "markdown",
      "source": [
        "### Inspecting the conversation\n",
        "\n",
        "To see the calls that the model makes, and what the client returns in response, you can inspect `chat.history`. This helper function will print out each turn along with the relevant fields passed or returned."
      ],
      "metadata": {
        "id": "1f5bb6d9bd6a"
      }
    },
    {
      "cell_type": "code",
      "source": [
        "import textwrap\n",
        "\n",
        "\n",
        "def print_chat_turns(chat):\n",
        "    \"\"\"Prints out each turn in the chat history, including function calls and responses.\"\"\"\n",
        "    for event in chat.history:\n",
        "        print(f\"{event.role.capitalize()}:\")\n",
        "\n",
        "        for part in event.parts:\n",
        "            if txt := part.text:\n",
        "                print(f'  \"{txt}\"')\n",
        "            elif fn := part.function_call:\n",
        "                args = \", \".join(f\"{key}={val}\" for key, val in fn.args.items())\n",
        "                print(f\"  Function call: {fn.name}({args})\")\n",
        "            elif resp := part.function_response:\n",
        "                print(\"  Function response:\")\n",
        "                print(textwrap.indent(str(resp), \"    \"))\n",
        "\n",
        "        print()\n",
        "\n",
        "\n",
        "print_chat_turns(chat)"
      ],
      "metadata": {
        "id": "639963cc64e2",
        "trusted": true,
        "execution": {
          "iopub.status.busy": "2024-11-13T21:05:28.774298Z",
          "iopub.execute_input": "2024-11-13T21:05:28.7747Z",
          "iopub.status.idle": "2024-11-13T21:05:28.79479Z",
          "shell.execute_reply.started": "2024-11-13T21:05:28.774657Z",
          "shell.execute_reply": "2024-11-13T21:05:28.7933Z"
        },
        "colab": {
          "base_uri": "https://localhost:8080/"
        },
        "outputId": "0a16f2db-f071-4d70-c9de-2a556d57a316"
      },
      "outputs": [
        {
          "output_type": "stream",
          "name": "stdout",
          "text": [
            "User:\n",
            "  \"Which salesperson sold the cheapest product?\"\n",
            "\n",
            "Model:\n",
            "  Function call: list_tables()\n",
            "\n",
            "User:\n",
            "  Function response:\n",
            "    name: \"list_tables\"\n",
            "    response {\n",
            "      fields {\n",
            "        key: \"result\"\n",
            "        value {\n",
            "          list_value {\n",
            "            values {\n",
            "              string_value: \"products\"\n",
            "            }\n",
            "            values {\n",
            "              string_value: \"sqlite_sequence\"\n",
            "            }\n",
            "            values {\n",
            "              string_value: \"staff\"\n",
            "            }\n",
            "            values {\n",
            "              string_value: \"orders\"\n",
            "            }\n",
            "          }\n",
            "        }\n",
            "      }\n",
            "    }\n",
            "\n",
            "\n",
            "Model:\n",
            "  Function call: describe_table(table_name=products)\n",
            "\n",
            "User:\n",
            "  Function response:\n",
            "    name: \"describe_table\"\n",
            "    response {\n",
            "      fields {\n",
            "        key: \"result\"\n",
            "        value {\n",
            "          list_value {\n",
            "            values {\n",
            "              list_value {\n",
            "                values {\n",
            "                  string_value: \"product_id\"\n",
            "                }\n",
            "                values {\n",
            "                  string_value: \"INTEGER\"\n",
            "                }\n",
            "              }\n",
            "            }\n",
            "            values {\n",
            "              list_value {\n",
            "                values {\n",
            "                  string_value: \"product_name\"\n",
            "                }\n",
            "                values {\n",
            "                  string_value: \"VARCHAR(255)\"\n",
            "                }\n",
            "              }\n",
            "            }\n",
            "            values {\n",
            "              list_value {\n",
            "                values {\n",
            "                  string_value: \"price\"\n",
            "                }\n",
            "                values {\n",
            "                  string_value: \"DECIMAL(10, 2)\"\n",
            "                }\n",
            "              }\n",
            "            }\n",
            "          }\n",
            "        }\n",
            "      }\n",
            "    }\n",
            "\n",
            "\n",
            "Model:\n",
            "  Function call: describe_table(table_name=staff)\n",
            "\n",
            "User:\n",
            "  Function response:\n",
            "    name: \"describe_table\"\n",
            "    response {\n",
            "      fields {\n",
            "        key: \"result\"\n",
            "        value {\n",
            "          list_value {\n",
            "            values {\n",
            "              list_value {\n",
            "                values {\n",
            "                  string_value: \"staff_id\"\n",
            "                }\n",
            "                values {\n",
            "                  string_value: \"INTEGER\"\n",
            "                }\n",
            "              }\n",
            "            }\n",
            "            values {\n",
            "              list_value {\n",
            "                values {\n",
            "                  string_value: \"first_name\"\n",
            "                }\n",
            "                values {\n",
            "                  string_value: \"VARCHAR(255)\"\n",
            "                }\n",
            "              }\n",
            "            }\n",
            "            values {\n",
            "              list_value {\n",
            "                values {\n",
            "                  string_value: \"last_name\"\n",
            "                }\n",
            "                values {\n",
            "                  string_value: \"VARCHAR(255)\"\n",
            "                }\n",
            "              }\n",
            "            }\n",
            "          }\n",
            "        }\n",
            "      }\n",
            "    }\n",
            "\n",
            "\n",
            "Model:\n",
            "  Function call: describe_table(table_name=orders)\n",
            "\n",
            "User:\n",
            "  Function response:\n",
            "    name: \"describe_table\"\n",
            "    response {\n",
            "      fields {\n",
            "        key: \"result\"\n",
            "        value {\n",
            "          list_value {\n",
            "            values {\n",
            "              list_value {\n",
            "                values {\n",
            "                  string_value: \"order_id\"\n",
            "                }\n",
            "                values {\n",
            "                  string_value: \"INTEGER\"\n",
            "                }\n",
            "              }\n",
            "            }\n",
            "            values {\n",
            "              list_value {\n",
            "                values {\n",
            "                  string_value: \"customer_name\"\n",
            "                }\n",
            "                values {\n",
            "                  string_value: \"VARCHAR(255)\"\n",
            "                }\n",
            "              }\n",
            "            }\n",
            "            values {\n",
            "              list_value {\n",
            "                values {\n",
            "                  string_value: \"staff_id\"\n",
            "                }\n",
            "                values {\n",
            "                  string_value: \"INTEGER\"\n",
            "                }\n",
            "              }\n",
            "            }\n",
            "            values {\n",
            "              list_value {\n",
            "                values {\n",
            "                  string_value: \"product_id\"\n",
            "                }\n",
            "                values {\n",
            "                  string_value: \"INTEGER\"\n",
            "                }\n",
            "              }\n",
            "            }\n",
            "          }\n",
            "        }\n",
            "      }\n",
            "    }\n",
            "\n",
            "\n",
            "Model:\n",
            "  Function call: execute_query(sql=SELECT staff.first_name, staff.last_name FROM staff INNER JOIN orders ON staff.staff_id = orders.staff_id INNER JOIN products ON orders.product_id = products.product_id ORDER BY products.price ASC LIMIT 1)\n",
            "\n",
            "User:\n",
            "  Function response:\n",
            "    name: \"execute_query\"\n",
            "    response {\n",
            "      fields {\n",
            "        key: \"result\"\n",
            "        value {\n",
            "          list_value {\n",
            "            values {\n",
            "              list_value {\n",
            "                values {\n",
            "                  string_value: \"Alice\"\n",
            "                }\n",
            "                values {\n",
            "                  string_value: \"Smith\"\n",
            "                }\n",
            "              }\n",
            "            }\n",
            "          }\n",
            "        }\n",
            "      }\n",
            "    }\n",
            "\n",
            "\n",
            "Model:\n",
            "  \"Alice Smith sold the cheapest product.\"\n",
            "\n"
          ]
        }
      ],
      "execution_count": 14
    },
    {
      "cell_type": "markdown",
      "source": [
        "In this output you can see each of the conversational turns that were made. Note that the model doesn't remember anything outside of a `ChatSession` object, so you can make changes to the database structure or data and the model will respond without needing any code changes - try this out!"
      ],
      "metadata": {
        "id": "8a17aeb2a3ef"
      }
    },
    {
      "cell_type": "markdown",
      "source": [
        "## Further reading\n",
        "\n",
        "To learn more about what the Gemini API can do with function calling, check out the [Function calling cookbook](https://github.com/google-gemini/cookbook/blob/main/quickstarts/Function_calling.ipynb) (see `Manual function calling` to understand how function calling works manually) as well as [Function calling config](https://github.com/google-gemini/cookbook/blob/main/quickstarts/Function_calling_config.ipynb), which gives you fine-grained control over how function calling is triggered."
      ],
      "metadata": {
        "id": "whHMeDHEWNVS"
      }
    }
  ]
}